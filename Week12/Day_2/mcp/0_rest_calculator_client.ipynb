{
  "cells": [
    {
      "cell_type": "markdown",
      "metadata": {},
      "source": [
        "# Calculator REST API Client Tutorial\n",
        "\n",
        "## Overview\n",
        "\n",
        "This notebook demonstrates how to interact with a FastAPI calculator service. We'll learn:\n",
        "- How to make HTTP requests to a local API server\n",
        "- Different ways to pass parameters\n",
        "- Error handling for API calls\n",
        "- Testing and debugging API interactions\n",
        "\n",
        "## Prerequisites\n",
        "\n",
        "1. Save the calculator service code as `calculator.py`\n",
        "2. Install required packages:\n",
        "   ```bash\n",
        "   pip install fastapi uvicorn requests\n",
        "   ```\n",
        "3. Start the server in a terminal:\n",
        "   ```bash\n",
        "   python calculator.py\n",
        "   ```\n",
        "\n",
        "The server will run on `http://localhost:9321`"
      ]
    },
    {
      "cell_type": "markdown",
      "metadata": {},
      "source": [
        "## Understanding the Server Code\n",
        "\n",
        "Our FastAPI server provides three endpoints:\n",
        "\n",
        "1. **GET /** - Root endpoint with welcome message\n",
        "2. **GET /add** - Adds two numbers (parameters: a, b)\n",
        "3. **GET /subtract** - Subtracts b from a (parameters: a, b)\n",
        "\n",
        "All endpoints return JSON responses."
      ]
    },
    {
      "cell_type": "code",
      "execution_count": null,
      "metadata": {},
      "outputs": [
        {
          "name": "stdout",
          "output_type": "stream",
          "text": [
            "API Base URL: http://localhost:9321\n"
          ]
        }
      ],
      "source": [
        "# Import required libraries\n",
        "import requests\n",
        "import json\n",
        "from pprint import pprint\n",
        "import time\n",
        "import pandas as pd\n",
        "import matplotlib.pyplot as plt\n",
        "\n",
        "# Define the base URL for our API\n",
        "BASE_URL = \"http://localhost:9321\"\n",
        "\n",
        "print(f\"API Base URL: {BASE_URL}\")"
      ]
    },
    {
      "cell_type": "markdown",
      "metadata": {},
      "source": [
        "## 1. Testing the Root Endpoint\n",
        "\n",
        "Let's start by checking if our API is running:"
      ]
    },
    {
      "cell_type": "code",
      "execution_count": null,
      "metadata": {},
      "outputs": [
        {
          "name": "stdout",
          "output_type": "stream",
          "text": [
            "Status Code: 200\n",
            "Response: {'message': 'Calculator API is running. Use /add or /subtract endpoints.'}\n"
          ]
        }
      ],
      "source": [
        "# Test if the API is running\n",
        "try:\n",
        "    response = requests.get(BASE_URL)\n",
        "    print(f\"Status Code: {response.status_code}\")\n",
        "    print(f\"Response: {response.json()}\")\n",
        "except requests.exceptions.ConnectionError:\n",
        "    print(\"Error: Could not connect to the API.\")\n",
        "    print(\"Make sure the server is running: python calculator.py\")"
      ]
    },
    {
      "cell_type": "markdown",
      "metadata": {},
      "source": [
        "## 2. Using the Add Endpoint\n",
        "\n",
        "Now let's use the `/add` endpoint to add two numbers:"
      ]
    },
    {
      "cell_type": "code",
      "execution_count": null,
      "metadata": {},
      "outputs": [
        {
          "name": "stdout",
          "output_type": "stream",
          "text": [
            "URL called: http://localhost:9321/add?a=10&b=5\n",
            "Status Code: 200\n",
            "Response:\n",
            "{'a': '10', 'b': '5', 'operation': 'add', 'result': 15.0}\n"
          ]
        }
      ],
      "source": [
        "# Method 1: Using query parameters in the URL\n",
        "url = f\"{BASE_URL}/add?a=10&b=5\"\n",
        "response = requests.get(url)\n",
        "\n",
        "print(f\"URL called: {url}\")\n",
        "print(f\"Status Code: {response.status_code}\")\n",
        "print(f\"Response:\")\n",
        "pprint(response.json())"
      ]
    },
    {
      "cell_type": "code",
      "execution_count": 4,
      "metadata": {},
      "outputs": [
        {
          "name": "stdout",
          "output_type": "stream",
          "text": [
            "URL called: http://localhost:9321/add?a=25.5&b=14.3\n",
            "Status Code: 200\n",
            "Response:\n",
            "{'a': '25.5', 'b': '14.3', 'operation': 'add', 'result': 39.8}\n",
            "\n",
            "The sum of 25.5 + 14.3 = 39.8\n"
          ]
        }
      ],
      "source": [
        "# Method 2: Using params dictionary (recommended)\n",
        "params = {\n",
        "    \"a\": 25.5,\n",
        "    \"b\": 14.3\n",
        "}\n",
        "\n",
        "response = requests.get(f\"{BASE_URL}/add\", params=params)\n",
        "\n",
        "print(f\"URL called: {response.url}\")\n",
        "print(f\"Status Code: {response.status_code}\")\n",
        "print(f\"Response:\")\n",
        "pprint(response.json())\n",
        "\n",
        "# Extract the result\n",
        "result = response.json()['result']\n",
        "print(f\"\\nThe sum of {params['a']} + {params['b']} = {result}\")"
      ]
    },
    {
      "cell_type": "markdown",
      "metadata": {},
      "source": [
        "## 3. Using the Subtract Endpoint\n",
        "\n",
        "Let's test the subtract functionality:"
      ]
    },
    {
      "cell_type": "code",
      "execution_count": 5,
      "metadata": {},
      "outputs": [
        {
          "name": "stdout",
          "output_type": "stream",
          "text": [
            "Operation: subtract\n",
            "Calculation: 100 - 37.5 = 62.5\n"
          ]
        }
      ],
      "source": [
        "# Subtract example\n",
        "params = {\n",
        "    \"a\": 100,\n",
        "    \"b\": 37.5\n",
        "}\n",
        "\n",
        "response = requests.get(f\"{BASE_URL}/subtract\", params=params)\n",
        "\n",
        "if response.status_code == 200:\n",
        "    data = response.json()\n",
        "    print(f\"Operation: {data['operation']}\")\n",
        "    print(f\"Calculation: {data['a']} - {data['b']} = {data['result']}\")\n",
        "else:\n",
        "    print(f\"Error: {response.status_code}\")"
      ]
    },
    {
      "cell_type": "markdown",
      "metadata": {},
      "source": [
        "## 4. Error Handling\n",
        "\n",
        "Let's see what happens with invalid inputs and how to handle errors:"
      ]
    },
    {
      "cell_type": "code",
      "execution_count": 6,
      "metadata": {},
      "outputs": [
        {
          "name": "stdout",
          "output_type": "stream",
          "text": [
            "Test 1: Missing parameter 'b'\n",
            "Status Code: 422\n",
            "Response: {\"detail\":[{\"type\":\"missing\",\"loc\":[\"query\",\"b\"],\"msg\":\"Field required\",\"input\":null}]}\n",
            "\n",
            "Test 2: Invalid number format\n",
            "Status Code: 500\n",
            "Response: Internal Server Error\n",
            "\n",
            "Test 3: Very large numbers\n",
            "Result: 2e+100\n"
          ]
        }
      ],
      "source": [
        "# Test with missing parameters\n",
        "print(\"Test 1: Missing parameter 'b'\")\n",
        "response = requests.get(f\"{BASE_URL}/add\", params={\"a\": 10})\n",
        "print(f\"Status Code: {response.status_code}\")\n",
        "print(f\"Response: {response.text}\\n\")\n",
        "\n",
        "# Test with invalid parameters\n",
        "print(\"Test 2: Invalid number format\")\n",
        "response = requests.get(f\"{BASE_URL}/add\", params={\"a\": \"ten\", \"b\": \"five\"})\n",
        "print(f\"Status Code: {response.status_code}\")\n",
        "print(f\"Response: {response.text}\\n\")\n",
        "\n",
        "# Test with very large numbers\n",
        "print(\"Test 3: Very large numbers\")\n",
        "response = requests.get(f\"{BASE_URL}/add\", params={\"a\": 1e100, \"b\": 1e100})\n",
        "if response.status_code == 200:\n",
        "    print(f\"Result: {response.json()['result']}\")"
      ]
    },
    {
      "cell_type": "markdown",
      "metadata": {},
      "source": [
        "## 5. Building a Calculator Client Class\n",
        "\n",
        "Let's create a reusable client for our calculator API:"
      ]
    },
    {
      "cell_type": "code",
      "execution_count": 7,
      "metadata": {},
      "outputs": [
        {
          "name": "stdout",
          "output_type": "stream",
          "text": [
            "Calculator API is running!\n",
            "\n",
            "50 + 30 = 80.0\n",
            "100 - 45 = 55.0\n",
            "80.0 + 55.0 = 135.0\n"
          ]
        }
      ],
      "source": [
        "class CalculatorClient:\n",
        "    \"\"\"\n",
        "    A client for interacting with the Calculator API\n",
        "    \"\"\"\n",
        "    def __init__(self, base_url=\"http://localhost:9321\"):\n",
        "        self.base_url = base_url\n",
        "        self.session = requests.Session()  # Reuse connection\n",
        "        \n",
        "    def is_alive(self):\n",
        "        \"\"\"Check if the API is running\"\"\"\n",
        "        try:\n",
        "            response = self.session.get(self.base_url, timeout=2)\n",
        "            return response.status_code == 200\n",
        "        except:\n",
        "            return False\n",
        "    \n",
        "    def add(self, a, b):\n",
        "        \"\"\"Add two numbers\"\"\"\n",
        "        try:\n",
        "            response = self.session.get(\n",
        "                f\"{self.base_url}/add\",\n",
        "                params={\"a\": a, \"b\": b}\n",
        "            )\n",
        "            response.raise_for_status()\n",
        "            return response.json()['result']\n",
        "        except requests.exceptions.RequestException as e:\n",
        "            print(f\"Error in add: {e}\")\n",
        "            return None\n",
        "        except ValueError as e:\n",
        "            print(f\"Invalid input: {e}\")\n",
        "            return None\n",
        "    \n",
        "    def subtract(self, a, b):\n",
        "        \"\"\"Subtract b from a\"\"\"\n",
        "        try:\n",
        "            response = self.session.get(\n",
        "                f\"{self.base_url}/subtract\",\n",
        "                params={\"a\": a, \"b\": b}\n",
        "            )\n",
        "            response.raise_for_status()\n",
        "            return response.json()['result']\n",
        "        except requests.exceptions.RequestException as e:\n",
        "            print(f\"Error in subtract: {e}\")\n",
        "            return None\n",
        "    \n",
        "    def close(self):\n",
        "        \"\"\"Close the session\"\"\"\n",
        "        self.session.close()\n",
        "\n",
        "# Use the calculator client\n",
        "calc = CalculatorClient()\n",
        "\n",
        "if calc.is_alive():\n",
        "    print(\"Calculator API is running!\\n\")\n",
        "    \n",
        "    # Perform calculations\n",
        "    result1 = calc.add(50, 30)\n",
        "    print(f\"50 + 30 = {result1}\")\n",
        "    \n",
        "    result2 = calc.subtract(100, 45)\n",
        "    print(f\"100 - 45 = {result2}\")\n",
        "    \n",
        "    # Chain calculations\n",
        "    result3 = calc.add(result1, result2)\n",
        "    print(f\"{result1} + {result2} = {result3}\")\n",
        "else:\n",
        "    print(\"Calculator API is not running!\")\n",
        "    \n",
        "calc.close()"
      ]
    },
    {
      "cell_type": "markdown",
      "metadata": {},
      "source": [
        "## 6. Performance Testing\n",
        "\n",
        "Let's test the API performance with multiple requests:"
      ]
    },
    {
      "cell_type": "code",
      "execution_count": 8,
      "metadata": {},
      "outputs": [
        {
          "name": "stdout",
          "output_type": "stream",
          "text": [
            "Response Time Statistics (in milliseconds):\n",
            "\n",
            "Add Endpoint:\n",
            "  Average: 2.68 ms\n",
            "  Min: 2.23 ms\n",
            "  Max: 3.54 ms\n",
            "\n",
            "Subtract Endpoint:\n",
            "  Average: 5.59 ms\n",
            "  Min: 2.37 ms\n",
            "  Max: 38.39 ms\n"
          ]
        }
      ],
      "source": [
        "# Measure response times\n",
        "import time\n",
        "\n",
        "def measure_response_time(url, params, iterations=10):\n",
        "    \"\"\"Measure average response time for an endpoint\"\"\"\n",
        "    times = []\n",
        "    \n",
        "    for i in range(iterations):\n",
        "        start = time.time()\n",
        "        response = requests.get(url, params=params)\n",
        "        end = time.time()\n",
        "        \n",
        "        if response.status_code == 200:\n",
        "            times.append((end - start) * 1000)  # Convert to milliseconds\n",
        "    \n",
        "    return times\n",
        "\n",
        "# Test add endpoint\n",
        "add_times = measure_response_time(\n",
        "    f\"{BASE_URL}/add\",\n",
        "    {\"a\": 100, \"b\": 200},\n",
        "    iterations=20\n",
        ")\n",
        "\n",
        "# Test subtract endpoint\n",
        "subtract_times = measure_response_time(\n",
        "    f\"{BASE_URL}/subtract\",\n",
        "    {\"a\": 500, \"b\": 123},\n",
        "    iterations=20\n",
        ")\n",
        "\n",
        "# Display statistics\n",
        "print(\"Response Time Statistics (in milliseconds):\")\n",
        "print(f\"\\nAdd Endpoint:\")\n",
        "print(f\"  Average: {sum(add_times)/len(add_times):.2f} ms\")\n",
        "print(f\"  Min: {min(add_times):.2f} ms\")\n",
        "print(f\"  Max: {max(add_times):.2f} ms\")\n",
        "\n",
        "print(f\"\\nSubtract Endpoint:\")\n",
        "print(f\"  Average: {sum(subtract_times)/len(subtract_times):.2f} ms\")\n",
        "print(f\"  Min: {min(subtract_times):.2f} ms\")\n",
        "print(f\"  Max: {max(subtract_times):.2f} ms\")"
      ]
    },
    {
      "cell_type": "code",
      "execution_count": 9,
      "metadata": {},
      "outputs": [
        {
          "data": {
            "image/png": "[encoded data removed]",
            "text/plain": [
              "<Figure size 1000x600 with 2 Axes>"
            ]
          },
          "metadata": {},
          "output_type": "display_data"
        }
      ],
      "source": [
        "# Visualize response times\n",
        "plt.figure(figsize=(10, 6))\n",
        "\n",
        "plt.subplot(1, 2, 1)\n",
        "plt.hist(add_times, bins=10, alpha=0.7, color='blue', edgecolor='black')\n",
        "plt.xlabel('Response Time (ms)')\n",
        "plt.ylabel('Frequency')\n",
        "plt.title('Add Endpoint Response Times')\n",
        "\n",
        "plt.subplot(1, 2, 2)\n",
        "plt.hist(subtract_times, bins=10, alpha=0.7, color='green', edgecolor='black')\n",
        "plt.xlabel('Response Time (ms)')\n",
        "plt.ylabel('Frequency')\n",
        "plt.title('Subtract Endpoint Response Times')\n",
        "\n",
        "plt.tight_layout()\n",
        "plt.show()"
      ]
    },
    {
      "cell_type": "markdown",
      "metadata": {},
      "source": [
        "## 7. Batch Processing Example\n",
        "\n",
        "Let's process multiple calculations using our API:"
      ]
    },
    {
      "cell_type": "code",
      "execution_count": 10,
      "metadata": {},
      "outputs": [
        {
          "name": "stdout",
          "output_type": "stream",
          "text": [
            "Batch Calculation Results:\n",
            "operation      a     b  result\n",
            "      add   10.0  20.0    30.0\n",
            " subtract  100.0  30.0    70.0\n",
            "      add    5.5   4.5    10.0\n",
            " subtract 1000.0 750.0   250.0\n",
            "      add  -10.0   5.0    -5.0\n",
            " subtract    0.0 100.0  -100.0\n"
          ]
        }
      ],
      "source": [
        "# Create a list of calculations\n",
        "calculations = [\n",
        "    {\"operation\": \"add\", \"a\": 10, \"b\": 20},\n",
        "    {\"operation\": \"subtract\", \"a\": 100, \"b\": 30},\n",
        "    {\"operation\": \"add\", \"a\": 5.5, \"b\": 4.5},\n",
        "    {\"operation\": \"subtract\", \"a\": 1000, \"b\": 750},\n",
        "    {\"operation\": \"add\", \"a\": -10, \"b\": 5},\n",
        "    {\"operation\": \"subtract\", \"a\": 0, \"b\": 100}\n",
        "]\n",
        "\n",
        "results = []\n",
        "\n",
        "for calc in calculations:\n",
        "    endpoint = f\"{BASE_URL}/{calc['operation']}\"\n",
        "    params = {\"a\": calc['a'], \"b\": calc['b']}\n",
        "    \n",
        "    response = requests.get(endpoint, params=params)\n",
        "    \n",
        "    if response.status_code == 200:\n",
        "        data = response.json()\n",
        "        results.append({\n",
        "            \"operation\": calc['operation'],\n",
        "            \"a\": calc['a'],\n",
        "            \"b\": calc['b'],\n",
        "            \"result\": data['result']\n",
        "        })\n",
        "\n",
        "# Display results in a table\n",
        "df = pd.DataFrame(results)\n",
        "print(\"Batch Calculation Results:\")\n",
        "print(df.to_string(index=False))"
      ]
    },
    {
      "cell_type": "markdown",
      "metadata": {},
      "source": [
        "## 8. Building a Calculator UI Function\n",
        "\n",
        "Create an interactive calculator function:"
      ]
    },
    {
      "cell_type": "code",
      "execution_count": 11,
      "metadata": {},
      "outputs": [],
      "source": [
        "def interactive_calculator():\n",
        "    \"\"\"\n",
        "    Simple interactive calculator using the API\n",
        "    \"\"\"\n",
        "    print(\"=== API Calculator ===\")\n",
        "    print(\"Operations: add, subtract, quit\\n\")\n",
        "    \n",
        "    while True:\n",
        "        operation = input(\"Enter operation (add/subtract/quit): \").lower().strip()\n",
        "        \n",
        "        if operation == \"quit\":\n",
        "            print(\"Goodbye!\")\n",
        "            break\n",
        "        \n",
        "        if operation not in [\"add\", \"subtract\"]:\n",
        "            print(\"Invalid operation. Try again.\\n\")\n",
        "            continue\n",
        "        \n",
        "        try:\n",
        "            a = float(input(\"Enter first number: \"))\n",
        "            b = float(input(\"Enter second number: \"))\n",
        "            \n",
        "            # Make API call\n",
        "            response = requests.get(\n",
        "                f\"{BASE_URL}/{operation}\",\n",
        "                params={\"a\": a, \"b\": b}\n",
        "            )\n",
        "            \n",
        "            if response.status_code == 200:\n",
        "                result = response.json()['result']\n",
        "                symbol = \"+\" if operation == \"add\" else \"-\"\n",
        "                print(f\"\\nResult: {a} {symbol} {b} = {result}\\n\")\n",
        "            else:\n",
        "                print(f\"Error: {response.status_code}\\n\")\n",
        "                \n",
        "        except ValueError:\n",
        "            print(\"Invalid number. Please try again.\\n\")\n",
        "        except requests.exceptions.RequestException as e:\n",
        "            print(f\"API Error: {e}\\n\")\n",
        "\n",
        "# Uncomment to run the interactive calculator\n",
        "# interactive_calculator()"
      ]
    },
    {
      "cell_type": "markdown",
      "metadata": {},
      "source": [
        "## 9. API Documentation with FastAPI\n",
        "\n",
        "FastAPI automatically generates interactive API documentation:"
      ]
    },
    {
      "cell_type": "code",
      "execution_count": 12,
      "metadata": {},
      "outputs": [
        {
          "name": "stdout",
          "output_type": "stream",
          "text": [
            "FastAPI Automatic Documentation URLs:\n",
            "\n",
            "1. Swagger UI (Interactive docs):\n",
            "   http://localhost:9321/docs\n",
            "\n",
            "2. ReDoc (Alternative docs):\n",
            "   http://localhost:9321/redoc\n",
            "\n",
            "3. OpenAPI Schema (JSON):\n",
            "   http://localhost:9321/openapi.json\n",
            "\n",
            "API Title: FastAPI\n",
            "API Version: 0.1.0\n",
            "\n",
            "Available Paths:\n",
            "  /add\n",
            "  /subtract\n",
            "  /\n"
          ]
        }
      ],
      "source": [
        "# FastAPI provides automatic documentation\n",
        "print(\"FastAPI Automatic Documentation URLs:\")\n",
        "print(f\"\\n1. Swagger UI (Interactive docs):\")\n",
        "print(f\"   http://localhost:9321/docs\")\n",
        "print(f\"\\n2. ReDoc (Alternative docs):\")\n",
        "print(f\"   http://localhost:9321/redoc\")\n",
        "print(f\"\\n3. OpenAPI Schema (JSON):\")\n",
        "print(f\"   http://localhost:9321/openapi.json\")\n",
        "\n",
        "# Get the OpenAPI schema\n",
        "try:\n",
        "    response = requests.get(f\"{BASE_URL}/openapi.json\")\n",
        "    if response.status_code == 200:\n",
        "        schema = response.json()\n",
        "        print(f\"\\nAPI Title: {schema['info']['title']}\")\n",
        "        print(f\"API Version: {schema['info']['version']}\")\n",
        "        print(f\"\\nAvailable Paths:\")\n",
        "        for path in schema['paths']:\n",
        "            print(f\"  {path}\")\n",
        "except:\n",
        "    print(\"\\nCould not fetch OpenAPI schema\")"
      ]
    },
    {
      "cell_type": "markdown",
      "metadata": {},
      "source": [
        "## 10. Advanced: Concurrent Requests\n",
        "\n",
        "Make multiple API calls concurrently for better performance:"
      ]
    },
    {
      "cell_type": "code",
      "execution_count": 13,
      "metadata": {},
      "outputs": [
        {
          "name": "stdout",
          "output_type": "stream",
          "text": [
            "Sequential execution time: 0.11 seconds\n",
            "Concurrent execution time: 0.09 seconds\n",
            "Speedup: 1.20x\n",
            "\n",
            "Total calculations: 40\n",
            "Results match: True\n"
          ]
        }
      ],
      "source": [
        "import concurrent.futures\n",
        "import time\n",
        "\n",
        "def make_calculation(operation, a, b):\n",
        "    \"\"\"Make a single calculation via API\"\"\"\n",
        "    response = requests.get(\n",
        "        f\"{BASE_URL}/{operation}\",\n",
        "        params={\"a\": a, \"b\": b}\n",
        "    )\n",
        "    if response.status_code == 200:\n",
        "        return response.json()['result']\n",
        "    return None\n",
        "\n",
        "# Create many calculations\n",
        "calculations = [\n",
        "    (\"add\", i, i+1) for i in range(20)\n",
        "] + [\n",
        "    (\"subtract\", i*10, i) for i in range(20)\n",
        "]\n",
        "\n",
        "# Sequential execution\n",
        "start_time = time.time()\n",
        "sequential_results = []\n",
        "for op, a, b in calculations:\n",
        "    result = make_calculation(op, a, b)\n",
        "    sequential_results.append(result)\n",
        "sequential_time = time.time() - start_time\n",
        "\n",
        "# Concurrent execution\n",
        "start_time = time.time()\n",
        "with concurrent.futures.ThreadPoolExecutor(max_workers=10) as executor:\n",
        "    futures = [executor.submit(make_calculation, op, a, b) \n",
        "               for op, a, b in calculations]\n",
        "    concurrent_results = [f.result() for f in futures]\n",
        "concurrent_time = time.time() - start_time\n",
        "\n",
        "print(f\"Sequential execution time: {sequential_time:.2f} seconds\")\n",
        "print(f\"Concurrent execution time: {concurrent_time:.2f} seconds\")\n",
        "print(f\"Speedup: {sequential_time/concurrent_time:.2f}x\")\n",
        "print(f\"\\nTotal calculations: {len(calculations)}\")\n",
        "print(f\"Results match: {sequential_results == concurrent_results}\")"
      ]
    },
    {
      "cell_type": "markdown",
      "metadata": {},
      "source": [
        "## Practice Exercises\n",
        "\n",
        "1. **Add More Operations**: Extend the API to include multiply and divide endpoints\n",
        "2. **Error Handling**: Improve error handling for division by zero\n",
        "3. **Caching**: Implement client-side caching for repeated calculations\n",
        "4. **Authentication**: Add API key authentication to the server\n",
        "5. **Logging**: Add request logging to track API usage\n",
        "6. **Rate Limiting**: Implement rate limiting on the server\n",
        "7. **Complex Calculator**: Add support for operations like power, square root, etc.\n",
        "\n",
        "## Key Takeaways\n",
        "\n",
        "- **FastAPI** makes it easy to create REST APIs with automatic documentation\n",
        "- **Query parameters** are passed in the URL for GET requests\n",
        "- **JSON responses** are standard for REST APIs\n",
        "- **Error handling** is crucial for robust client applications\n",
        "- **Performance testing** helps identify bottlenecks\n",
        "- **Concurrent requests** can improve performance for multiple API calls\n",
        "- **Interactive documentation** (Swagger UI) helps explore APIs\n",
        "\n",
        "## Next Steps\n",
        "\n",
        "1. Modify the server to add more mathematical operations\n",
        "2. Implement POST endpoints for complex calculations\n",
        "3. Add request/response validation with Pydantic models\n",
        "4. Deploy the API to a cloud service (Heroku, AWS, etc.)\n",
        "5. Add database integration for storing calculation history"
      ]
    }
  ],
  "metadata": {
    "kernelspec": {
      "display_name": "mcp_env",
      "language": "python",
      "name": "python3"
    },
    "language_info": {
      "codemirror_mode": {
        "name": "ipython",
        "version": 3
      },
      "file_extension": ".py",
      "mimetype": "text/x-python",
      "name": "python",
      "nbconvert_exporter": "python",
      "pygments_lexer": "ipython3",
      "version": "3.11.4"
    }
  },
  "nbformat": 4,
  "nbformat_minor": 4
}
