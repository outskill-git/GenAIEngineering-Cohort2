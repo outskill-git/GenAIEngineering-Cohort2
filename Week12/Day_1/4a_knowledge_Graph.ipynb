{
 "cells": [
  {
   "cell_type": "markdown",
   "metadata": {},
   "source": [
    "# Install and Import phidata\n",
    "Install the phidata library and import necessary modules for working with agents, tools, knowledge, and storage components."
   ]
  },
  {
   "cell_type": "code",
   "execution_count": null,
   "metadata": {},
   "outputs": [],
   "source": [
    "# pip install numpy==1.26.4 ipykernel phidata openai ipywidgets duckduckgo-search yfinance crawl4ai lancedb sentence-transformers torch pypdf chromadb duckdb"
   ]
  },
  {
   "cell_type": "markdown",
   "metadata": {},
   "source": [
    "\n",
    "### Explanation of the Code\n",
    "\n",
    "The code performs the following steps:\n",
    "\n",
    "1. **Importing Required Modules**:\n",
    "    - `os`: Provides functions to interact with the operating system.\n",
    "    - `load_dotenv` from `dotenv`: Loads environment variables from a `.env` file into the system environment.\n",
    "\n",
    "2. **Loading Environment Variables**:\n",
    "    - The `load_dotenv()` function is called to load environment variables from a `.env` file.\n",
    "\n",
    "3. **Clearing Conflicting Environment Variables**:\n",
    "    - A list of environment variables (`env_vars_to_clear`) is defined, which includes `OPENAI_API_KEY`, `OPENAI_BASE_URL`, and `OPENAI_API_BASE`.\n",
    "    - For each variable in the list, the code checks if it exists in the environment. If it does, it prints a warning message and deletes the variable from the environment.\n",
    "\n",
    "4. **Setting New Environment Variables**:\n",
    "    - The `OPENAI_API_KEY` is set to the value of the `OPEN_ROUTER_KEY` environment variable.\n",
    "    - Both `OPENAI_API_BASE` and `OPENAI_BASE_URL` are set to `'https://openrouter.ai/api/v1'`.\n",
    "\n",
    "5. **Commented-Out Code**:\n",
    "    - There is an alternative block of code (commented out) that clears the same environment variables and sets `OPENAI_API_KEY` to the value of the `OPEN_AI_KEY` environment variable instead.\n",
    "\n",
    "### Purpose:\n",
    "This code ensures that conflicting environment variables are removed and sets up the required environment variables for interacting with the OpenRouter API. It provides flexibility to switch between different API keys and base URLs by modifying the `.env` file or uncommenting the alternative block of code.\n"
   ]
  },
  {
   "cell_type": "code",
   "execution_count": null,
   "metadata": {},
   "outputs": [],
   "source": [
    "\n",
    "import os\n",
    "from dotenv import load_dotenv\n",
    "# Load environment variables\n",
    "load_dotenv()\n",
    "\n",
    "\n",
    "env_vars_to_clear = ['OPENAI_API_KEY', 'OPENAI_BASE_URL', 'OPENAI_API_BASE']\n",
    "for var in env_vars_to_clear:\n",
    "    if os.getenv(var):\n",
    "        print(f\"⚠️  Removing conflicting {var}\")\n",
    "        del os.environ[var]\n",
    "\n",
    "\n",
    "os.environ[\"OPENAI_API_KEY\"] = os.getenv(\"OPEN_ROUTER_KEY\")\n",
    "os.environ['OPENAI_API_BASE'] = 'https://openrouter.ai/api/v1'\n",
    "os.environ['OPENAI_BASE_URL'] = 'https://openrouter.ai/api/v1'\n",
    "\n",
    "\n",
    "\n",
    "# env_vars_to_clear = ['OPENAI_API_KEY', 'OPENAI_BASE_URL', 'OPENAI_API_BASE']\n",
    "# for var in env_vars_to_clear:\n",
    "#     if os.getenv(var):\n",
    "#         print(f\"⚠️  Removing conflicting {var}\")\n",
    "#         del os.environ[var]\n",
    "# os.environ[\"OPENAI_API_KEY\"] = os.getenv(\"OPEN_AI_KEY\")\n",
    "\n",
    "\n"
   ]
  },
  {
   "cell_type": "markdown",
   "metadata": {},
   "source": [
    "### Explanation of the Code\n",
    "\n",
    "The code in the next cell performs the following steps:\n",
    "\n",
    "1. **Importing Required Modules**:\n",
    "    - `phi.agent.Agent`: Used to create an agent that can perform reasoning tasks.\n",
    "    - `phi.tools.Tool`: Provides tools that can be used by the agent.\n",
    "    - `phi.model.openai.OpenAIChat`: Represents the OpenAI GPT model used for generating responses.\n",
    "    - `phi.utils.pprint.pprint_run_response`: A utility function to pretty-print the agent's response.\n",
    "\n",
    "### Purpose:\n",
    "This code sets up the necessary imports to create and interact with agents that utilize OpenAI's GPT models for reasoning and task execution. It also includes tools and utilities for enhancing the agent's functionality and formatting its output."
   ]
  },
  {
   "cell_type": "code",
   "execution_count": null,
   "metadata": {},
   "outputs": [],
   "source": [
    "from phi.agent import Agent\n",
    "from phi.tools import Tool\n",
    "from phi.model.openai import OpenAIChat\n",
    "from phi.utils.pprint import pprint_run_response"
   ]
  },
  {
   "cell_type": "code",
   "execution_count": null,
   "metadata": {},
   "outputs": [],
   "source": [
    "import httpx\n",
    "from pathlib import Path\n",
    "from phi.agent import Agent\n",
    "from phi.model.openai import OpenAIChat\n",
    "from phi.tools.csv_tools import CsvTools\n",
    "from phi.tools.python import PythonTools\n",
    "\n",
    "# Download IMDB CSV file\n",
    "# url = \"https://phidata-public.s3.amazonaws.com/demo_data/IMDB-Movie-Data.csv\"\n",
    "# response = httpx.get(url)\n",
    "\n",
    "imdb_csv = \"imdb.csv\"\n",
    "\n",
    "\n",
    "\n",
    "# Create agent with CSV and Python tools\n",
    "knowledge_graph_agent = Agent(\n",
    "    name=\"IMDB Knowledge Graph Agent\",\n",
    "    model=OpenAIChat(id=\"gpt-4o\"),\n",
    "    tools=[\n",
    "        CsvTools(csvs=[imdb_csv]),\n",
    "        PythonTools(pip_install=True, save_and_run=True)\n",
    "    ],\n",
    "    instructions=[\n",
    "        \"You are an expert at analyzing movie data and creating knowledge graphs\",\n",
    "        \"First, explore the CSV file to understand its structure and columns\",\n",
    "        \"Then create a comprehensive knowledge graph showing relationships between movies, directors, actors, genres, and ratings\",\n",
    "        \"Use networkx and matplotlib/plotly for visualization\",\n",
    "        \"Always show the graph structure and save visualizations\"\n",
    "    ],\n",
    "    markdown=True,\n",
    "    show_tool_calls=True,\n",
    ")\n",
    "\n",
    "# Ask the agent to create a knowledge graph\n",
    "knowledge_graph_agent.print_response(\"\"\"\n",
    "                                     use  only 200 records\n",
    "Please analyze the IMDB movie dataset and create a knowledge graph that shows:\n",
    "\n",
    "1. First, examine the CSV file structure and show me the columns and sample data\n",
    "2. Create a knowledge graph that represents:\n",
    "   \n",
    "   - Directors as nodes  \n",
    "   - Genres as nodes\n",
    "   - actors as nodes\n",
    "   - Movies as nodes\n",
    "   \n",
    "   - Edge weights based on movie ratings or revenue\n",
    "3. Visualize the knowledge graph using networkx and matplotlib\n",
    "4. Provide insights about the most connected nodes (popular directors, common genres, etc.)\n",
    "5. Save the visualization as an image file\n",
    "\n",
    "Use appropriate graph layout algorithms to make the visualization clear and informative.\n",
    "\"\"\", stream=True)"
   ]
  }
 ],
 "metadata": {
  "kernelspec": {
   "display_name": "phidata_env",
   "language": "python",
   "name": "python3"
  },
  "language_info": {
   "codemirror_mode": {
    "name": "ipython",
    "version": 3
   },
   "file_extension": ".py",
   "mimetype": "text/x-python",
   "name": "python",
   "nbconvert_exporter": "python",
   "pygments_lexer": "ipython3",
   "version": "3.11.4"
  }
 },
 "nbformat": 4,
 "nbformat_minor": 2
}
