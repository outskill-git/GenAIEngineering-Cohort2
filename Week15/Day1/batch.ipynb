{
 "cells": [
  {
   "cell_type": "code",
   "execution_count": null,
   "id": "e4b2ad14",
   "metadata": {},
   "outputs": [],
   "source": [
    "import os, json, time, tempfile, pathlib\n",
    "from openai import OpenAI\n",
    "from dotenv import load_dotenv\n",
    "\n",
    "load_dotenv()\n",
    "\n",
    "client = OpenAI(api_key=os.getenv(\"OPENAI_API_KEY\"))\n",
    "\n",
    "\n",
    "# Read: https://cookbook.openai.com/examples/batch_processing\n"
   ]
  },
  {
   "cell_type": "code",
   "execution_count": 5,
   "id": "69fb5527",
   "metadata": {},
   "outputs": [
    {
     "name": "stdout",
     "output_type": "stream",
     "text": [
      "[{'role': 'system', 'content': 'You are a professional, friendly, and detail-oriented travel assistant and booking agent. Your goal is to help users plan trips for vacation, holidays, work, study, conferences, family gatherings, or other purposes. Always tailor your recommendations based on their specific travel reason, budget, trip length, group size, and preferences.\\n\\n## Core Behaviour & Guidelines\\n1. Always greet the user warmly, acknowledging their stated travel reason.\\n2. Ask for missing essential information before finalising a plan: budget, travel companions (number and relationship), planned duration, country of origin, travel dates, and any paperwork or visa considerations.\\n3. For every recommendation, prioritise **accuracy, feasibility, and clarity**. Do not fabricate legal or visa information; instead, guide the user to authoritative, official sources if you cannot confirm something.\\n4. Present all responses in a **clear, structured format** with headings, subheadings, and bullet points. Avoid long unbroken paragraphs.\\n5. Use live citations for legal requirements, visa rules, and regulations (link to official government or embassy websites).\\n6. Always factor in seasonal/weather considerations, public holidays, festivals, or peak seasons at the destination.\\n7. Assume the user might be a first-time visitor to the destination, so include context and practical tips.\\n\\n## Required Output Format for Final Plan\\n### Summary\\nTraveling from: {city, country} — {departure date in MMM DD, YY}\\nTraveling to: {city, country} — {arrival date in MMM DD, YY}\\n[Destination + duration of stay] (repeat for each stop in multi-destination trips)\\nTravel reason: {reason}\\nBudget: {currency symbol}{amount}\\nTraveling with: {description of group, number of people}\\n\\n### Legal Requirements\\nVisa Requirements:\\n- [bullet points with requirement summaries]\\n- Each requirement should include a short rationale (why needed)\\nWhere to Apply for Visa:\\n- [official website links]\\nHow Long Before to Start Planning:\\n- [bullet points with recommendations]\\nOther Legal Requirements:\\n- [bullet points; include permits, health requirements, insurance obligations]\\n\\n### Popular Flight Options — Departure\\n[table with columns: Airline, Cost, Duration, Stops, Notes — top 10 sorted by best balance of cost and time]\\n\\n### Popular Flight Options — Return\\n[table with same columns — top 10]\\n\\n### Itinerary for [Destination]\\n(Repeat this section for each destination in a multi-destination trip)\\n1. Account for arrival time, rest and recovery, and local transport availability.\\n2. Ensure key attractions or events have enough allocated time.\\n3. Add seasonal or holiday-specific adjustments.\\n4. For each trip from point A to B, list three viable transport options, best first, with pros/cons.\\n5. Where applicable, include unique, lesser-known experiences.\\n6. Mention potential risks (weather, strikes, closures).\\n\\n## Additional Assistant Duties\\n- **Budget sensitivity:** Adapt recommendations to the user\\'s stated budget — avoid suggesting overly expensive options unless user explicitly requests luxury.\\n- **Safety & security:** If a region has travel advisories, highlight them with a direct link to the advisory source.\\n- **Cultural tips:** Provide etiquette, language basics, and do\\'s/don\\'ts for each destination.\\n- **Accessibility:** Where possible, note if destinations, hotels, or transport are accessible for people with disabilities.\\n- **Food & dining:** Suggest must-try local dishes and safe eating practices.\\n- **Packing suggestions:** List climate-appropriate packing items based on travel dates and weather data.\\n- **Connectivity:** Include info on SIM cards, eSIMs, and Wi-Fi availability.\\n\\n## Example Few-Shot Demonstrations\\n### Example 1 — Short Domestic Trip\\nUser: \"I’m going to Kyoto for 4 days during cherry blossom season.\"\\nAssistant:\\n[Provide full structured plan, including legal requirements if applicable, suggested itinerary with cherry blossom viewing spots, transport, hotel areas, and seasonal notes]\\n\\n### Example 2 — International Conference\\nUser: \"I’m attending a 5-day tech conference in Berlin from India.\"\\nAssistant:\\n[Structured plan with visa info, nearby hotels to conference venue, cultural etiquette, SIM card options, evening activities]\\n\\n### Example 3 — Family Vacation\\nUser: \"Family trip to New Zealand for 2 weeks from the UK.\"\\nAssistant:\\n[Structured plan with multi-destination itinerary, driving route, child-friendly attractions, budget-conscious accommodation]\\n\\n---\\nAlways adhere to the structure and depth demonstrated above. Do not skip sections unless the user explicitly instructs otherwise. If unsure, do not include data, or ask quesitons, or point user on where to get relevant info. Do not give information you are yourself not sure about. If tools are not available like websearch, etc. — inform the user about the same and give them alternatives on how they could find the information themslves (use appologetic tone here). For most chit, chats — keep the answers super crisp. Before answering user\\'s question — ask all the necessary questions/ask for the information you\\'d need to be able to answer their questions '}, {'role': 'user', 'content': 'What is the capital of France?'}, {'role': 'assistant', 'content': 'The capital of France is Paris.'}, {'role': 'user', 'content': 'Write me 3 paragraphs about paris and a list of places to visit'}, {'role': 'assistant', 'content': '**Paris** is the capital and largest city of France, known globally for its art, fashion, gastronomy, and culture. Situated on the River Seine, Paris has been a major center of finance, diplomacy, commerce, and tourism since the 17th century. Its rich history is reflected in its architecture—from Gothic cathedrals to grand boulevards—and its influence continues to shape global culture and politics.\\n The city is often referred to as \"The City of Light\" due to its leading role during the Age of Enlightenment and its early adoption of street lighting. Paris is home to some of the world’s most visited museums and monuments, including the Louvre, which houses the Mona Lisa, and the Eiffel Tower, which dominates the skyline. Its cafe culture, literary legacy, and culinary excellence further add to its appeal. \\n Paris is divided into 20 districts or *arrondissements*, each with its own character. From the bohemian charm of Montmartre to the elegance of the Marais, every neighborhood offers a unique experience. Whether you\\'re wandering along the Seine, shopping in haute couture boutiques, or enjoying a croissant in a sidewalk café, Paris invites you to slow down and savor the beauty around you. \\n --- \\n ### Must-Visit Places in Paris: \\n * **Eiffel Tower** \\n * **Louvre Museum** \\n * **Notre-Dame Cathedral** \\n * **Sainte-Chapelle** \\n * **Montmartre & Sacré-Cœur** \\n * **Champs-Élysées & Arc de Triomphe** \\n * **Palace of Versailles** (just outside Paris) \\n * **Musée d\\'Orsay** \\n * **Luxembourg Gardens** \\n * **Seine River Cruise** \\n * **Père Lachaise Cemetery** \\n * **Le Marais District** \\n * **Latin Quarter** \\n * **Tuileries Garden** \\n * **Opéra Garnier**'}, {'role': 'user', 'content': 'How many days should I plan for?'}]\n"
     ]
    }
   ],
   "source": [
    "# Your conversation (as provided)\n",
    "messages = [\n",
    "    { \"role\": \"system\", \"content\": \"You are a professional, friendly, and detail-oriented travel assistant and booking agent. Your goal is to help users plan trips for vacation, holidays, work, study, conferences, family gatherings, or other purposes. Always tailor your recommendations based on their specific travel reason, budget, trip length, group size, and preferences.\\n\\n## Core Behaviour & Guidelines\\n1. Always greet the user warmly, acknowledging their stated travel reason.\\n2. Ask for missing essential information before finalising a plan: budget, travel companions (number and relationship), planned duration, country of origin, travel dates, and any paperwork or visa considerations.\\n3. For every recommendation, prioritise **accuracy, feasibility, and clarity**. Do not fabricate legal or visa information; instead, guide the user to authoritative, official sources if you cannot confirm something.\\n4. Present all responses in a **clear, structured format** with headings, subheadings, and bullet points. Avoid long unbroken paragraphs.\\n5. Use live citations for legal requirements, visa rules, and regulations (link to official government or embassy websites).\\n6. Always factor in seasonal/weather considerations, public holidays, festivals, or peak seasons at the destination.\\n7. Assume the user might be a first-time visitor to the destination, so include context and practical tips.\\n\\n## Required Output Format for Final Plan\\n### Summary\\nTraveling from: {city, country} — {departure date in MMM DD, YY}\\nTraveling to: {city, country} — {arrival date in MMM DD, YY}\\n[Destination + duration of stay] (repeat for each stop in multi-destination trips)\\nTravel reason: {reason}\\nBudget: {currency symbol}{amount}\\nTraveling with: {description of group, number of people}\\n\\n### Legal Requirements\\nVisa Requirements:\\n- [bullet points with requirement summaries]\\n- Each requirement should include a short rationale (why needed)\\nWhere to Apply for Visa:\\n- [official website links]\\nHow Long Before to Start Planning:\\n- [bullet points with recommendations]\\nOther Legal Requirements:\\n- [bullet points; include permits, health requirements, insurance obligations]\\n\\n### Popular Flight Options — Departure\\n[table with columns: Airline, Cost, Duration, Stops, Notes — top 10 sorted by best balance of cost and time]\\n\\n### Popular Flight Options — Return\\n[table with same columns — top 10]\\n\\n### Itinerary for [Destination]\\n(Repeat this section for each destination in a multi-destination trip)\\n1. Account for arrival time, rest and recovery, and local transport availability.\\n2. Ensure key attractions or events have enough allocated time.\\n3. Add seasonal or holiday-specific adjustments.\\n4. For each trip from point A to B, list three viable transport options, best first, with pros/cons.\\n5. Where applicable, include unique, lesser-known experiences.\\n6. Mention potential risks (weather, strikes, closures).\\n\\n## Additional Assistant Duties\\n- **Budget sensitivity:** Adapt recommendations to the user's stated budget — avoid suggesting overly expensive options unless user explicitly requests luxury.\\n- **Safety & security:** If a region has travel advisories, highlight them with a direct link to the advisory source.\\n- **Cultural tips:** Provide etiquette, language basics, and do's/don'ts for each destination.\\n- **Accessibility:** Where possible, note if destinations, hotels, or transport are accessible for people with disabilities.\\n- **Food & dining:** Suggest must-try local dishes and safe eating practices.\\n- **Packing suggestions:** List climate-appropriate packing items based on travel dates and weather data.\\n- **Connectivity:** Include info on SIM cards, eSIMs, and Wi-Fi availability.\\n\\n## Example Few-Shot Demonstrations\\n### Example 1 — Short Domestic Trip\\nUser: \\\"I’m going to Kyoto for 4 days during cherry blossom season.\\\"\\nAssistant:\\n[Provide full structured plan, including legal requirements if applicable, suggested itinerary with cherry blossom viewing spots, transport, hotel areas, and seasonal notes]\\n\\n### Example 2 — International Conference\\nUser: \\\"I’m attending a 5-day tech conference in Berlin from India.\\\"\\nAssistant:\\n[Structured plan with visa info, nearby hotels to conference venue, cultural etiquette, SIM card options, evening activities]\\n\\n### Example 3 — Family Vacation\\nUser: \\\"Family trip to New Zealand for 2 weeks from the UK.\\\"\\nAssistant:\\n[Structured plan with multi-destination itinerary, driving route, child-friendly attractions, budget-conscious accommodation]\\n\\n---\\nAlways adhere to the structure and depth demonstrated above. Do not skip sections unless the user explicitly instructs otherwise. If unsure, do not include data, or ask quesitons, or point user on where to get relevant info. Do not give information you are yourself not sure about. If tools are not available like websearch, etc. — inform the user about the same and give them alternatives on how they could find the information themslves (use appologetic tone here). For most chit, chats — keep the answers super crisp. Before answering user's question — ask all the necessary questions/ask for the information you'd need to be able to answer their questions \"},\n",
    "    { \"role\": \"user\", \"content\": \"What is the capital of France?\" },\n",
    "    { \"role\": \"assistant\", \"content\": \"The capital of France is Paris.\" },\n",
    "    { \"role\": \"user\", \"content\": \"Write me 3 paragraphs about paris and a list of places to visit\" },\n",
    "    { \"role\": \"assistant\", \"content\": \"**Paris** is the capital and largest city of France, known globally for its art, fashion, gastronomy, and culture. Situated on the River Seine, Paris has been a major center of finance, diplomacy, commerce, and tourism since the 17th century. Its rich history is reflected in its architecture—from Gothic cathedrals to grand boulevards—and its influence continues to shape global culture and politics.\\n The city is often referred to as \\\"The City of Light\\\" due to its leading role during the Age of Enlightenment and its early adoption of street lighting. Paris is home to some of the world’s most visited museums and monuments, including the Louvre, which houses the Mona Lisa, and the Eiffel Tower, which dominates the skyline. Its cafe culture, literary legacy, and culinary excellence further add to its appeal. \\n Paris is divided into 20 districts or *arrondissements*, each with its own character. From the bohemian charm of Montmartre to the elegance of the Marais, every neighborhood offers a unique experience. Whether you're wandering along the Seine, shopping in haute couture boutiques, or enjoying a croissant in a sidewalk café, Paris invites you to slow down and savor the beauty around you. \\n --- \\n ### Must-Visit Places in Paris: \\n * **Eiffel Tower** \\n * **Louvre Museum** \\n * **Notre-Dame Cathedral** \\n * **Sainte-Chapelle** \\n * **Montmartre & Sacré-Cœur** \\n * **Champs-Élysées & Arc de Triomphe** \\n * **Palace of Versailles** (just outside Paris) \\n * **Musée d'Orsay** \\n * **Luxembourg Gardens** \\n * **Seine River Cruise** \\n * **Père Lachaise Cemetery** \\n * **Le Marais District** \\n * **Latin Quarter** \\n * **Tuileries Garden** \\n * **Opéra Garnier**\" },\n",
    "    { \"role\": \"user\", \"content\": \"How many days should I plan for?\" },\n",
    "]\n",
    "\n",
    "print(messages)"
   ]
  },
  {
   "cell_type": "code",
   "execution_count": 7,
   "id": "815941fc",
   "metadata": {},
   "outputs": [
    {
     "data": {
      "text/plain": [
       "PosixPath('/var/folders/kl/353z8zps55j1cpm5r0xdnhsw0000gn/T/tmprgh_wcdk/batch_input.jsonl')"
      ]
     },
     "execution_count": 7,
     "metadata": {},
     "output_type": "execute_result"
    }
   ],
   "source": [
    "# Create JSONL file\n",
    "\n",
    "payload = {\n",
    "    \"custom_id\": \"req-001-paris-days\",\n",
    "    \"method\": \"POST\",\n",
    "    \"url\": \"/v1/chat/completions\",\n",
    "    \"body\": {\n",
    "        \"model\": \"gpt-4o-mini\",\n",
    "        \"messages\": messages,\n",
    "        # Optional tuning knobs:\n",
    "        \"temperature\": 0.7,\n",
    "        \"max_tokens\": 100\n",
    "    },\n",
    "}\n",
    "\n",
    "tmpdir = pathlib.Path(tempfile.mkdtemp())\n",
    "input_jsonl_path = tmpdir / \"batch_input.jsonl\"\n",
    "with open(input_jsonl_path, \"w\", encoding=\"utf-8\") as f:\n",
    "    f.write(json.dumps(payload) + \"\\n\")\n",
    "\n",
    "input_jsonl_path"
   ]
  },
  {
   "cell_type": "code",
   "execution_count": 8,
   "id": "78812321",
   "metadata": {},
   "outputs": [
    {
     "data": {
      "text/plain": [
       "'batch_6896b225268c8190aa8b990df872a9f0'"
      ]
     },
     "execution_count": 8,
     "metadata": {},
     "output_type": "execute_result"
    }
   ],
   "source": [
    "upload = client.files.create(\n",
    "    file=open(input_jsonl_path, \"rb\"),\n",
    "    purpose=\"batch\"\n",
    ")\n",
    "\n",
    "batch = client.batches.create(\n",
    "    input_file_id=upload.id,\n",
    "    endpoint=\"/v1/chat/completions\",\n",
    "    completion_window=\"24h\",  # 24h or 4h (if available to your account)\n",
    "    metadata={\"note\": \"Paris trip planning example\"}\n",
    ")\n",
    "\n",
    "batch.id # You must store this batch ID!"
   ]
  },
  {
   "cell_type": "code",
   "execution_count": 12,
   "id": "e819470f",
   "metadata": {},
   "outputs": [
    {
     "name": "stdout",
     "output_type": "stream",
     "text": [
      "[08:02:36] Status: in_progress | completed=0 failed=0 total=1\n",
      "[08:02:47] Status: in_progress | completed=0 failed=0 total=1\n",
      "[08:02:57] Status: in_progress | completed=0 failed=0 total=1\n",
      "[08:03:08] Status: in_progress | completed=0 failed=0 total=1\n",
      "[08:03:19] Status: in_progress | completed=0 failed=0 total=1\n",
      "[08:03:30] Status: in_progress | completed=0 failed=0 total=1\n",
      "[08:03:41] Status: in_progress | completed=0 failed=0 total=1\n",
      "[08:03:52] Status: in_progress | completed=0 failed=0 total=1\n",
      "[08:04:03] Status: in_progress | completed=0 failed=0 total=1\n",
      "[08:04:14] Status: in_progress | completed=0 failed=0 total=1\n",
      "[08:04:25] Status: in_progress | completed=0 failed=0 total=1\n",
      "[08:04:36] Status: in_progress | completed=0 failed=0 total=1\n",
      "[08:04:46] Status: in_progress | completed=0 failed=0 total=1\n",
      "[08:04:57] Status: in_progress | completed=0 failed=0 total=1\n",
      "[08:05:08] Status: in_progress | completed=0 failed=0 total=1\n",
      "[08:05:19] Status: in_progress | completed=0 failed=0 total=1\n",
      "[08:05:30] Status: in_progress | completed=0 failed=0 total=1\n",
      "[08:05:40] Status: in_progress | completed=0 failed=0 total=1\n",
      "[08:05:52] Status: in_progress | completed=0 failed=0 total=1\n",
      "[08:06:02] Status: in_progress | completed=0 failed=0 total=1\n",
      "[08:06:13] Status: in_progress | completed=0 failed=0 total=1\n",
      "[08:06:24] Status: in_progress | completed=0 failed=0 total=1\n",
      "[08:06:35] Status: in_progress | completed=0 failed=0 total=1\n",
      "[08:06:46] Status: in_progress | completed=0 failed=0 total=1\n",
      "[08:06:56] Status: in_progress | completed=0 failed=0 total=1\n",
      "[08:07:07] Status: in_progress | completed=0 failed=0 total=1\n",
      "[08:07:18] Status: in_progress | completed=0 failed=0 total=1\n",
      "[08:07:29] Status: in_progress | completed=0 failed=0 total=1\n",
      "[08:07:40] Status: in_progress | completed=0 failed=0 total=1\n",
      "[08:07:50] Status: in_progress | completed=0 failed=0 total=1\n",
      "[08:08:01] Status: in_progress | completed=0 failed=0 total=1\n",
      "[08:08:12] Status: in_progress | completed=0 failed=0 total=1\n",
      "[08:08:23] Status: in_progress | completed=0 failed=0 total=1\n",
      "[08:08:34] Status: in_progress | completed=0 failed=0 total=1\n",
      "[08:08:45] Status: in_progress | completed=0 failed=0 total=1\n",
      "[08:08:56] Status: in_progress | completed=0 failed=0 total=1\n",
      "[08:09:06] Status: in_progress | completed=0 failed=0 total=1\n",
      "[08:09:17] Status: in_progress | completed=0 failed=0 total=1\n",
      "[08:09:29] Status: in_progress | completed=0 failed=0 total=1\n",
      "[08:09:40] Status: in_progress | completed=0 failed=0 total=1\n",
      "[08:09:50] Status: in_progress | completed=0 failed=0 total=1\n",
      "[08:10:01] Status: in_progress | completed=0 failed=0 total=1\n",
      "[08:10:12] Status: in_progress | completed=0 failed=0 total=1\n",
      "[08:10:23] Status: in_progress | completed=0 failed=0 total=1\n",
      "[08:10:34] Status: in_progress | completed=0 failed=0 total=1\n",
      "[08:10:45] Status: in_progress | completed=0 failed=0 total=1\n",
      "[08:10:56] Status: in_progress | completed=0 failed=0 total=1\n",
      "[08:11:07] Status: in_progress | completed=0 failed=0 total=1\n",
      "[08:11:17] Status: in_progress | completed=0 failed=0 total=1\n",
      "[08:11:28] Status: in_progress | completed=0 failed=0 total=1\n",
      "[08:11:39] Status: in_progress | completed=0 failed=0 total=1\n",
      "[08:11:50] Status: in_progress | completed=0 failed=0 total=1\n",
      "[08:12:01] Status: in_progress | completed=0 failed=0 total=1\n",
      "[08:12:12] Status: in_progress | completed=0 failed=0 total=1\n",
      "[08:12:22] Status: completed   | completed=1 failed=0 total=1\n"
     ]
    },
    {
     "data": {
      "text/plain": [
       "'completed'"
      ]
     },
     "execution_count": 12,
     "metadata": {},
     "output_type": "execute_result"
    }
   ],
   "source": [
    "# --- 3) Poll until the batch completes (or fails) ---\n",
    "def wait_for_batch(batch_id: str, poll_secs: int = 10, verbose: bool = True):\n",
    "    TERMINAL = {\"completed\", \"failed\", \"cancelled\", \"expired\"}\n",
    "    while True:\n",
    "        b = client.batches.retrieve(batch_id)\n",
    "\n",
    "        # Defensive reads (some fields can be None while validating)\n",
    "        rc = getattr(b, \"request_counts\", None)\n",
    "        completed = getattr(rc, \"completed\", 0) if rc else 0\n",
    "        failed = getattr(rc, \"failed\", 0) if rc else 0\n",
    "        total = getattr(rc, \"total\", 0) if rc else 0\n",
    "\n",
    "        if verbose:\n",
    "            ts = time.strftime(\"%H:%M:%S\")\n",
    "            print(f\"[{ts}] Status: {b.status:<11} | completed={completed} failed={failed} total={total}\")\n",
    "\n",
    "        if b.status in TERMINAL:\n",
    "            return b\n",
    "\n",
    "        time.sleep(poll_secs)\n",
    "\n",
    "final_batch = wait_for_batch(batch.id)\n",
    "final_batch.status"
   ]
  },
  {
   "cell_type": "code",
   "execution_count": 13,
   "id": "f16f7763",
   "metadata": {},
   "outputs": [
    {
     "data": {
      "text/plain": [
       "(1, 1)"
      ]
     },
     "execution_count": 13,
     "metadata": {},
     "output_type": "execute_result"
    }
   ],
   "source": [
    "# --- 4) Download and parse the output JSONL ---\n",
    "if final_batch.status != \"completed\":\n",
    "    raise RuntimeError(f\"Batch {final_batch.id} ended with status: {final_batch.status}\")\n",
    "\n",
    "output_file_id = final_batch.output_file_id\n",
    "if not output_file_id:\n",
    "    raise RuntimeError(\"No output_file_id found on the completed batch.\")\n",
    "\n",
    "# The SDK returns a streaming response; join bytes to get full text\n",
    "resp = client.files.content(output_file_id)\n",
    "output_bytes = b\"\".join(resp.iter_bytes())\n",
    "output_text = output_bytes.decode(\"utf-8\")\n",
    "\n",
    "assistant_texts = []\n",
    "raw_rows = []\n",
    "\n",
    "for i, line in enumerate(output_text.strip().splitlines(), 1):\n",
    "    obj = json.loads(line)\n",
    "    raw_rows.append(obj)\n",
    "\n",
    "    # Each line looks like:\n",
    "    # {\n",
    "    #   \"id\": \"...\",\n",
    "    #   \"custom_id\": \"req-001-paris-days\",\n",
    "    #   \"response\": {\n",
    "    #       \"status_code\": 200,\n",
    "    #       \"request_id\": \"...\",\n",
    "    #       \"body\": { \"id\": \"...\", \"object\": \"chat.completion\", \"choices\": [...] }\n",
    "    #   }\n",
    "    # }\n",
    "    custom_id = obj.get(\"custom_id\")\n",
    "    resp = obj.get(\"response\", {})\n",
    "    body = resp.get(\"body\", {}) if isinstance(resp, dict) else {}\n",
    "\n",
    "    content = None\n",
    "    if isinstance(body, dict):\n",
    "        # Chat Completions path\n",
    "        if \"choices\" in body and body.get(\"choices\"):\n",
    "            content = body[\"choices\"][0].get(\"message\", {}).get(\"content\")\n",
    "        # (Optional) Responses API path, if you ever use it in future:\n",
    "        elif \"output_text\" in body:\n",
    "            content = body[\"output_text\"]\n",
    "\n",
    "    assistant_texts.append({\n",
    "        \"line\": i,\n",
    "        \"custom_id\": custom_id,\n",
    "        \"status_code\": resp.get(\"status_code\"),\n",
    "        \"content\": content or \"\"\n",
    "    })\n",
    "\n",
    "# Keep both parsed assistant texts and raw rows if you want to inspect later\n",
    "len(assistant_texts), len(raw_rows)"
   ]
  },
  {
   "cell_type": "code",
   "execution_count": 14,
   "id": "00b7e1fa",
   "metadata": {},
   "outputs": [
    {
     "name": "stdout",
     "output_type": "stream",
     "text": [
      "--- Reply for req-001-paris-days (status=200) ---\n",
      "  The ideal number of days to plan for a trip to Paris depends largely on your interests and the experiences you wish to have. Here’s a general guideline:\n",
      "\n",
      "  ### Suggested Duration:\n",
      "  - **3 Days**: \n",
      "    - Best for a quick visit to the main attractions such as the Eiffel Tower, Louvre Museum, and Notre-Dame Cathedral. This is suitable if you're on a tight schedule.\n",
      "  \n",
      "  - **5 Days**: \n",
      "    - Allows for a more relaxed pace. You can explore additional areas like\n",
      "\n"
     ]
    }
   ],
   "source": [
    "# --- 5) Pretty-print just the assistant’s answer(s) ---\n",
    "from textwrap import indent\n",
    "\n",
    "for item in assistant_texts:\n",
    "    hdr = item[\"custom_id\"] or f\"line-{item['line']}\"\n",
    "    sc = item.get(\"status_code\")\n",
    "    print(f\"--- Reply for {hdr} (status={sc}) ---\")\n",
    "    text = item[\"content\"] if item[\"content\"] else \"[No assistant content in this line]\"\n",
    "    print(indent(text, \"  \"))\n",
    "    print()"
   ]
  }
 ],
 "metadata": {
  "kernelspec": {
   "display_name": ".venv",
   "language": "python",
   "name": "python3"
  },
  "language_info": {
   "codemirror_mode": {
    "name": "ipython",
    "version": 3
   },
   "file_extension": ".py",
   "mimetype": "text/x-python",
   "name": "python",
   "nbconvert_exporter": "python",
   "pygments_lexer": "ipython3",
   "version": "3.11.9"
  }
 },
 "nbformat": 4,
 "nbformat_minor": 5
}
