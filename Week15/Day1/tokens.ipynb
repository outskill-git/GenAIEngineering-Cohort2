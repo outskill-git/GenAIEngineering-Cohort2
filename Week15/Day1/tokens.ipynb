{
 "cells": [
  {
   "cell_type": "code",
   "execution_count": 1,
   "id": "72913b3f",
   "metadata": {},
   "outputs": [
    {
     "name": "stdout",
     "output_type": "stream",
     "text": [
      "Requirement already satisfied: openai in ./.venv/lib/python3.11/site-packages (1.99.4)\n",
      "Requirement already satisfied: tiktoken in ./.venv/lib/python3.11/site-packages (0.10.0)\n",
      "Requirement already satisfied: anthropic in ./.venv/lib/python3.11/site-packages (0.62.0)\n",
      "Requirement already satisfied: python-dotenv in ./.venv/lib/python3.11/site-packages (1.1.1)\n",
      "Requirement already satisfied: google-genai in ./.venv/lib/python3.11/site-packages (1.29.0)\n",
      "Requirement already satisfied: anyio<5,>=3.5.0 in ./.venv/lib/python3.11/site-packages (from openai) (4.10.0)\n",
      "Requirement already satisfied: distro<2,>=1.7.0 in ./.venv/lib/python3.11/site-packages (from openai) (1.9.0)\n",
      "Requirement already satisfied: httpx<1,>=0.23.0 in ./.venv/lib/python3.11/site-packages (from openai) (0.28.1)\n",
      "Requirement already satisfied: jiter<1,>=0.4.0 in ./.venv/lib/python3.11/site-packages (from openai) (0.10.0)\n",
      "Requirement already satisfied: pydantic<3,>=1.9.0 in ./.venv/lib/python3.11/site-packages (from openai) (2.11.7)\n",
      "Requirement already satisfied: sniffio in ./.venv/lib/python3.11/site-packages (from openai) (1.3.1)\n",
      "Requirement already satisfied: tqdm>4 in ./.venv/lib/python3.11/site-packages (from openai) (4.67.1)\n",
      "Requirement already satisfied: typing-extensions<5,>=4.11 in ./.venv/lib/python3.11/site-packages (from openai) (4.14.1)\n",
      "Requirement already satisfied: regex>=2022.1.18 in ./.venv/lib/python3.11/site-packages (from tiktoken) (2025.7.34)\n",
      "Requirement already satisfied: requests>=2.26.0 in ./.venv/lib/python3.11/site-packages (from tiktoken) (2.32.4)\n",
      "Requirement already satisfied: google-auth<3.0.0,>=2.14.1 in ./.venv/lib/python3.11/site-packages (from google-genai) (2.40.3)\n",
      "Requirement already satisfied: tenacity<9.2.0,>=8.2.3 in ./.venv/lib/python3.11/site-packages (from google-genai) (9.1.2)\n",
      "Requirement already satisfied: websockets<15.1.0,>=13.0.0 in ./.venv/lib/python3.11/site-packages (from google-genai) (15.0.1)\n",
      "Requirement already satisfied: idna>=2.8 in ./.venv/lib/python3.11/site-packages (from anyio<5,>=3.5.0->openai) (3.10)\n",
      "Requirement already satisfied: cachetools<6.0,>=2.0.0 in ./.venv/lib/python3.11/site-packages (from google-auth<3.0.0,>=2.14.1->google-genai) (5.5.2)\n",
      "Requirement already satisfied: pyasn1-modules>=0.2.1 in ./.venv/lib/python3.11/site-packages (from google-auth<3.0.0,>=2.14.1->google-genai) (0.4.2)\n",
      "Requirement already satisfied: rsa<5,>=3.1.4 in ./.venv/lib/python3.11/site-packages (from google-auth<3.0.0,>=2.14.1->google-genai) (4.9.1)\n",
      "Requirement already satisfied: certifi in ./.venv/lib/python3.11/site-packages (from httpx<1,>=0.23.0->openai) (2025.8.3)\n",
      "Requirement already satisfied: httpcore==1.* in ./.venv/lib/python3.11/site-packages (from httpx<1,>=0.23.0->openai) (1.0.9)\n",
      "Requirement already satisfied: h11>=0.16 in ./.venv/lib/python3.11/site-packages (from httpcore==1.*->httpx<1,>=0.23.0->openai) (0.16.0)\n",
      "Requirement already satisfied: annotated-types>=0.6.0 in ./.venv/lib/python3.11/site-packages (from pydantic<3,>=1.9.0->openai) (0.7.0)\n",
      "Requirement already satisfied: pydantic-core==2.33.2 in ./.venv/lib/python3.11/site-packages (from pydantic<3,>=1.9.0->openai) (2.33.2)\n",
      "Requirement already satisfied: typing-inspection>=0.4.0 in ./.venv/lib/python3.11/site-packages (from pydantic<3,>=1.9.0->openai) (0.4.1)\n",
      "Requirement already satisfied: charset_normalizer<4,>=2 in ./.venv/lib/python3.11/site-packages (from requests>=2.26.0->tiktoken) (3.4.2)\n",
      "Requirement already satisfied: urllib3<3,>=1.21.1 in ./.venv/lib/python3.11/site-packages (from requests>=2.26.0->tiktoken) (2.5.0)\n",
      "Requirement already satisfied: pyasn1<0.7.0,>=0.6.1 in ./.venv/lib/python3.11/site-packages (from pyasn1-modules>=0.2.1->google-auth<3.0.0,>=2.14.1->google-genai) (0.6.1)\n",
      "\n",
      "\u001b[1m[\u001b[0m\u001b[34;49mnotice\u001b[0m\u001b[1;39;49m]\u001b[0m\u001b[39;49m A new release of pip is available: \u001b[0m\u001b[31;49m24.0\u001b[0m\u001b[39;49m -> \u001b[0m\u001b[32;49m25.2\u001b[0m\n",
      "\u001b[1m[\u001b[0m\u001b[34;49mnotice\u001b[0m\u001b[1;39;49m]\u001b[0m\u001b[39;49m To update, run: \u001b[0m\u001b[32;49mpip install --upgrade pip\u001b[0m\n",
      "Note: you may need to restart the kernel to use updated packages.\n"
     ]
    }
   ],
   "source": [
    "%pip install openai tiktoken anthropic python-dotenv google-genai"
   ]
  },
  {
   "cell_type": "code",
   "execution_count": 2,
   "id": "88175fdb",
   "metadata": {},
   "outputs": [
    {
     "name": "stdout",
     "output_type": "stream",
     "text": [
      "[{'role': 'system', 'content': 'You are a helpful assistant. Answer in crisp & friendly language. If any additional information is needed, ask the user for it before your answer.'}, {'role': 'user', 'content': 'What is the capital of France?'}, {'role': 'assistant', 'content': 'The capital of France is Paris.'}, {'role': 'user', 'content': 'Write me 3 paragraphs about paris and a list of places to visit'}, {'role': 'assistant', 'content': '**Paris** is the capital and largest city of France, known globally for its art, fashion, gastronomy, and culture. Situated on the River Seine, Paris has been a major center of finance, diplomacy, commerce, and tourism since the 17th century. Its rich history is reflected in its architecture—from Gothic cathedrals to grand boulevards—and its influence continues to shape global culture and politics.\\n The city is often referred to as \"The City of Light\" due to its leading role during the Age of Enlightenment and its early adoption of street lighting. Paris is home to some of the world’s most visited museums and monuments, including the Louvre, which houses the Mona Lisa, and the Eiffel Tower, which dominates the skyline. Its cafe culture, literary legacy, and culinary excellence further add to its appeal. \\n Paris is divided into 20 districts or *arrondissements*, each with its own character. From the bohemian charm of Montmartre to the elegance of the Marais, every neighborhood offers a unique experience. Whether you\\'re wandering along the Seine, shopping in haute couture boutiques, or enjoying a croissant in a sidewalk café, Paris invites you to slow down and savor the beauty around you. \\n --- \\n ### Must-Visit Places in Paris: \\n * **Eiffel Tower** \\n * **Louvre Museum** \\n * **Notre-Dame Cathedral** \\n * **Sainte-Chapelle** \\n * **Montmartre & Sacré-Cœur** \\n * **Champs-Élysées & Arc de Triomphe** \\n * **Palace of Versailles** (just outside Paris) \\n * **Musée d\\'Orsay** \\n * **Luxembourg Gardens** \\n * **Seine River Cruise** \\n * **Père Lachaise Cemetery** \\n * **Le Marais District** \\n * **Latin Quarter** \\n * **Tuileries Garden** \\n * **Opéra Garnier**'}, {'role': 'user', 'content': 'How many days should I plan for?'}]\n",
      "[{'role': 'user', 'content': 'What is the capital of France?'}, {'role': 'assistant', 'content': 'The capital of France is Paris.'}, {'role': 'user', 'content': 'Write me 3 paragraphs about paris and a list of places to visit'}, {'role': 'assistant', 'content': '**Paris** is the capital and largest city of France, known globally for its art, fashion, gastronomy, and culture. Situated on the River Seine, Paris has been a major center of finance, diplomacy, commerce, and tourism since the 17th century. Its rich history is reflected in its architecture—from Gothic cathedrals to grand boulevards—and its influence continues to shape global culture and politics.\\n The city is often referred to as \"The City of Light\" due to its leading role during the Age of Enlightenment and its early adoption of street lighting. Paris is home to some of the world’s most visited museums and monuments, including the Louvre, which houses the Mona Lisa, and the Eiffel Tower, which dominates the skyline. Its cafe culture, literary legacy, and culinary excellence further add to its appeal. \\n Paris is divided into 20 districts or *arrondissements*, each with its own character. From the bohemian charm of Montmartre to the elegance of the Marais, every neighborhood offers a unique experience. Whether you\\'re wandering along the Seine, shopping in haute couture boutiques, or enjoying a croissant in a sidewalk café, Paris invites you to slow down and savor the beauty around you. \\n --- \\n ### Must-Visit Places in Paris: \\n * **Eiffel Tower** \\n * **Louvre Museum** \\n * **Notre-Dame Cathedral** \\n * **Sainte-Chapelle** \\n * **Montmartre & Sacré-Cœur** \\n * **Champs-Élysées & Arc de Triomphe** \\n * **Palace of Versailles** (just outside Paris) \\n * **Musée d\\'Orsay** \\n * **Luxembourg Gardens** \\n * **Seine River Cruise** \\n * **Père Lachaise Cemetery** \\n * **Le Marais District** \\n * **Latin Quarter** \\n * **Tuileries Garden** \\n * **Opéra Garnier**'}, {'role': 'user', 'content': 'How many days should I plan for?'}]\n",
      "[{'role': 'system', 'content': 'You are a professional, friendly, and detail-oriented travel assistant and booking agent. Your goal is to help users plan trips for vacation, holidays, work, study, conferences, family gatherings, or other purposes. Always tailor your recommendations based on their specific travel reason, budget, trip length, group size, and preferences.\\n\\n## Core Behaviour & Guidelines\\n1. Always greet the user warmly, acknowledging their stated travel reason.\\n2. Ask for missing essential information before finalising a plan: budget, travel companions (number and relationship), planned duration, country of origin, travel dates, and any paperwork or visa considerations.\\n3. For every recommendation, prioritise **accuracy, feasibility, and clarity**. Do not fabricate legal or visa information; instead, guide the user to authoritative, official sources if you cannot confirm something.\\n4. Present all responses in a **clear, structured format** with headings, subheadings, and bullet points. Avoid long unbroken paragraphs.\\n5. Use live citations for legal requirements, visa rules, and regulations (link to official government or embassy websites).\\n6. Always factor in seasonal/weather considerations, public holidays, festivals, or peak seasons at the destination.\\n7. Assume the user might be a first-time visitor to the destination, so include context and practical tips.\\n\\n## Required Output Format for Final Plan\\n### Summary\\nTraveling from: {city, country} — {departure date in MMM DD, YY}\\nTraveling to: {city, country} — {arrival date in MMM DD, YY}\\n[Destination + duration of stay] (repeat for each stop in multi-destination trips)\\nTravel reason: {reason}\\nBudget: {currency symbol}{amount}\\nTraveling with: {description of group, number of people}\\n\\n### Legal Requirements\\nVisa Requirements:\\n- [bullet points with requirement summaries]\\n- Each requirement should include a short rationale (why needed)\\nWhere to Apply for Visa:\\n- [official website links]\\nHow Long Before to Start Planning:\\n- [bullet points with recommendations]\\nOther Legal Requirements:\\n- [bullet points; include permits, health requirements, insurance obligations]\\n\\n### Popular Flight Options — Departure\\n[table with columns: Airline, Cost, Duration, Stops, Notes — top 10 sorted by best balance of cost and time]\\n\\n### Popular Flight Options — Return\\n[table with same columns — top 10]\\n\\n### Itinerary for [Destination]\\n(Repeat this section for each destination in a multi-destination trip)\\n1. Account for arrival time, rest and recovery, and local transport availability.\\n2. Ensure key attractions or events have enough allocated time.\\n3. Add seasonal or holiday-specific adjustments.\\n4. For each trip from point A to B, list three viable transport options, best first, with pros/cons.\\n5. Where applicable, include unique, lesser-known experiences.\\n6. Mention potential risks (weather, strikes, closures).\\n\\n## Additional Assistant Duties\\n- **Budget sensitivity:** Adapt recommendations to the user\\'s stated budget — avoid suggesting overly expensive options unless user explicitly requests luxury.\\n- **Safety & security:** If a region has travel advisories, highlight them with a direct link to the advisory source.\\n- **Cultural tips:** Provide etiquette, language basics, and do\\'s/don\\'ts for each destination.\\n- **Accessibility:** Where possible, note if destinations, hotels, or transport are accessible for people with disabilities.\\n- **Food & dining:** Suggest must-try local dishes and safe eating practices.\\n- **Packing suggestions:** List climate-appropriate packing items based on travel dates and weather data.\\n- **Connectivity:** Include info on SIM cards, eSIMs, and Wi-Fi availability.\\n\\n## Example Few-Shot Demonstrations\\n### Example 1 — Short Domestic Trip\\nUser: \"I’m going to Kyoto for 4 days during cherry blossom season.\"\\nAssistant:\\n[Provide full structured plan, including legal requirements if applicable, suggested itinerary with cherry blossom viewing spots, transport, hotel areas, and seasonal notes]\\n\\n### Example 2 — International Conference\\nUser: \"I’m attending a 5-day tech conference in Berlin from India.\"\\nAssistant:\\n[Structured plan with visa info, nearby hotels to conference venue, cultural etiquette, SIM card options, evening activities]\\n\\n### Example 3 — Family Vacation\\nUser: \"Family trip to New Zealand for 2 weeks from the UK.\"\\nAssistant:\\n[Structured plan with multi-destination itinerary, driving route, child-friendly attractions, budget-conscious accommodation]\\n\\n---\\nAlways adhere to the structure and depth demonstrated above. Do not skip sections unless the user explicitly instructs otherwise. If unsure, do not include data, or ask quesitons, or point user on where to get relevant info. Do not give information you are yourself not sure about. If tools are not available like websearch, etc. — inform the user about the same and give them alternatives on how they could find the information themslves (use appologetic tone here). For most chit, chats —\\xa0keep the answers super crisp. Before answering user\\'s question — ask all the necessary questions/ask for the information you\\'d need to be able to answer their questions '}, {'role': 'user', 'content': 'What is the capital of France?'}, {'role': 'assistant', 'content': 'The capital of France is Paris.'}, {'role': 'user', 'content': 'Write me 3 paragraphs about paris and a list of places to visit'}, {'role': 'assistant', 'content': '**Paris** is the capital and largest city of France, known globally for its art, fashion, gastronomy, and culture. Situated on the River Seine, Paris has been a major center of finance, diplomacy, commerce, and tourism since the 17th century. Its rich history is reflected in its architecture—from Gothic cathedrals to grand boulevards—and its influence continues to shape global culture and politics.\\n The city is often referred to as \"The City of Light\" due to its leading role during the Age of Enlightenment and its early adoption of street lighting. Paris is home to some of the world’s most visited museums and monuments, including the Louvre, which houses the Mona Lisa, and the Eiffel Tower, which dominates the skyline. Its cafe culture, literary legacy, and culinary excellence further add to its appeal. \\n Paris is divided into 20 districts or *arrondissements*, each with its own character. From the bohemian charm of Montmartre to the elegance of the Marais, every neighborhood offers a unique experience. Whether you\\'re wandering along the Seine, shopping in haute couture boutiques, or enjoying a croissant in a sidewalk café, Paris invites you to slow down and savor the beauty around you. \\n --- \\n ### Must-Visit Places in Paris: \\n * **Eiffel Tower** \\n * **Louvre Museum** \\n * **Notre-Dame Cathedral** \\n * **Sainte-Chapelle** \\n * **Montmartre & Sacré-Cœur** \\n * **Champs-Élysées & Arc de Triomphe** \\n * **Palace of Versailles** (just outside Paris) \\n * **Musée d\\'Orsay** \\n * **Luxembourg Gardens** \\n * **Seine River Cruise** \\n * **Père Lachaise Cemetery** \\n * **Le Marais District** \\n * **Latin Quarter** \\n * **Tuileries Garden** \\n * **Opéra Garnier**'}, {'role': 'user', 'content': 'How many days should I plan for?'}]\n"
     ]
    }
   ],
   "source": [
    "messages = [{ \"role\": \"system\", \"content\": \"You are a helpful assistant. Answer in crisp & friendly language. If any additional information is needed, ask the user for it before your answer.\" },\n",
    "    { \"role\": \"user\", \"content\": \"What is the capital of France?\" },\n",
    "    { \"role\": \"assistant\", \"content\": \"The capital of France is Paris.\" },\n",
    "    { \"role\": \"user\", \"content\": \"Write me 3 paragraphs about paris and a list of places to visit\" },\n",
    "    { \"role\": \"assistant\", \"content\": \"**Paris** is the capital and largest city of France, known globally for its art, fashion, gastronomy, and culture. Situated on the River Seine, Paris has been a major center of finance, diplomacy, commerce, and tourism since the 17th century. Its rich history is reflected in its architecture—from Gothic cathedrals to grand boulevards—and its influence continues to shape global culture and politics.\\n The city is often referred to as \\\"The City of Light\\\" due to its leading role during the Age of Enlightenment and its early adoption of street lighting. Paris is home to some of the world’s most visited museums and monuments, including the Louvre, which houses the Mona Lisa, and the Eiffel Tower, which dominates the skyline. Its cafe culture, literary legacy, and culinary excellence further add to its appeal. \\n Paris is divided into 20 districts or *arrondissements*, each with its own character. From the bohemian charm of Montmartre to the elegance of the Marais, every neighborhood offers a unique experience. Whether you're wandering along the Seine, shopping in haute couture boutiques, or enjoying a croissant in a sidewalk café, Paris invites you to slow down and savor the beauty around you. \\n --- \\n ### Must-Visit Places in Paris: \\n * **Eiffel Tower** \\n * **Louvre Museum** \\n * **Notre-Dame Cathedral** \\n * **Sainte-Chapelle** \\n * **Montmartre & Sacré-Cœur** \\n * **Champs-Élysées & Arc de Triomphe** \\n * **Palace of Versailles** (just outside Paris) \\n * **Musée d'Orsay** \\n * **Luxembourg Gardens** \\n * **Seine River Cruise** \\n * **Père Lachaise Cemetery** \\n * **Le Marais District** \\n * **Latin Quarter** \\n * **Tuileries Garden** \\n * **Opéra Garnier**\" },\n",
    "    { \"role\": \"user\", \"content\": \"How many days should I plan for?\" },\n",
    "]\n",
    "\n",
    "\n",
    "messages_2 = [\n",
    "    { \"role\": \"system\", \"content\": \"You are a professional, friendly, and detail-oriented travel assistant and booking agent. Your goal is to help users plan trips for vacation, holidays, work, study, conferences, family gatherings, or other purposes. Always tailor your recommendations based on their specific travel reason, budget, trip length, group size, and preferences.\\n\\n## Core Behaviour & Guidelines\\n1. Always greet the user warmly, acknowledging their stated travel reason.\\n2. Ask for missing essential information before finalising a plan: budget, travel companions (number and relationship), planned duration, country of origin, travel dates, and any paperwork or visa considerations.\\n3. For every recommendation, prioritise **accuracy, feasibility, and clarity**. Do not fabricate legal or visa information; instead, guide the user to authoritative, official sources if you cannot confirm something.\\n4. Present all responses in a **clear, structured format** with headings, subheadings, and bullet points. Avoid long unbroken paragraphs.\\n5. Use live citations for legal requirements, visa rules, and regulations (link to official government or embassy websites).\\n6. Always factor in seasonal/weather considerations, public holidays, festivals, or peak seasons at the destination.\\n7. Assume the user might be a first-time visitor to the destination, so include context and practical tips.\\n\\n## Required Output Format for Final Plan\\n### Summary\\nTraveling from: {city, country} — {departure date in MMM DD, YY}\\nTraveling to: {city, country} — {arrival date in MMM DD, YY}\\n[Destination + duration of stay] (repeat for each stop in multi-destination trips)\\nTravel reason: {reason}\\nBudget: {currency symbol}{amount}\\nTraveling with: {description of group, number of people}\\n\\n### Legal Requirements\\nVisa Requirements:\\n- [bullet points with requirement summaries]\\n- Each requirement should include a short rationale (why needed)\\nWhere to Apply for Visa:\\n- [official website links]\\nHow Long Before to Start Planning:\\n- [bullet points with recommendations]\\nOther Legal Requirements:\\n- [bullet points; include permits, health requirements, insurance obligations]\\n\\n### Popular Flight Options — Departure\\n[table with columns: Airline, Cost, Duration, Stops, Notes — top 10 sorted by best balance of cost and time]\\n\\n### Popular Flight Options — Return\\n[table with same columns — top 10]\\n\\n### Itinerary for [Destination]\\n(Repeat this section for each destination in a multi-destination trip)\\n1. Account for arrival time, rest and recovery, and local transport availability.\\n2. Ensure key attractions or events have enough allocated time.\\n3. Add seasonal or holiday-specific adjustments.\\n4. For each trip from point A to B, list three viable transport options, best first, with pros/cons.\\n5. Where applicable, include unique, lesser-known experiences.\\n6. Mention potential risks (weather, strikes, closures).\\n\\n## Additional Assistant Duties\\n- **Budget sensitivity:** Adapt recommendations to the user's stated budget — avoid suggesting overly expensive options unless user explicitly requests luxury.\\n- **Safety & security:** If a region has travel advisories, highlight them with a direct link to the advisory source.\\n- **Cultural tips:** Provide etiquette, language basics, and do's/don'ts for each destination.\\n- **Accessibility:** Where possible, note if destinations, hotels, or transport are accessible for people with disabilities.\\n- **Food & dining:** Suggest must-try local dishes and safe eating practices.\\n- **Packing suggestions:** List climate-appropriate packing items based on travel dates and weather data.\\n- **Connectivity:** Include info on SIM cards, eSIMs, and Wi-Fi availability.\\n\\n## Example Few-Shot Demonstrations\\n### Example 1 — Short Domestic Trip\\nUser: \\\"I’m going to Kyoto for 4 days during cherry blossom season.\\\"\\nAssistant:\\n[Provide full structured plan, including legal requirements if applicable, suggested itinerary with cherry blossom viewing spots, transport, hotel areas, and seasonal notes]\\n\\n### Example 2 — International Conference\\nUser: \\\"I’m attending a 5-day tech conference in Berlin from India.\\\"\\nAssistant:\\n[Structured plan with visa info, nearby hotels to conference venue, cultural etiquette, SIM card options, evening activities]\\n\\n### Example 3 — Family Vacation\\nUser: \\\"Family trip to New Zealand for 2 weeks from the UK.\\\"\\nAssistant:\\n[Structured plan with multi-destination itinerary, driving route, child-friendly attractions, budget-conscious accommodation]\\n\\n---\\nAlways adhere to the structure and depth demonstrated above. Do not skip sections unless the user explicitly instructs otherwise. If unsure, do not include data, or ask quesitons, or point user on where to get relevant info. Do not give information you are yourself not sure about. If tools are not available like websearch, etc. — inform the user about the same and give them alternatives on how they could find the information themslves (use appologetic tone here). For most chit, chats — keep the answers super crisp. Before answering user's question — ask all the necessary questions/ask for the information you'd need to be able to answer their questions \"},\n",
    "    { \"role\": \"user\", \"content\": \"What is the capital of France?\" },\n",
    "    { \"role\": \"assistant\", \"content\": \"The capital of France is Paris.\" },\n",
    "    { \"role\": \"user\", \"content\": \"Write me 3 paragraphs about paris and a list of places to visit\" },\n",
    "    { \"role\": \"assistant\", \"content\": \"**Paris** is the capital and largest city of France, known globally for its art, fashion, gastronomy, and culture. Situated on the River Seine, Paris has been a major center of finance, diplomacy, commerce, and tourism since the 17th century. Its rich history is reflected in its architecture—from Gothic cathedrals to grand boulevards—and its influence continues to shape global culture and politics.\\n The city is often referred to as \\\"The City of Light\\\" due to its leading role during the Age of Enlightenment and its early adoption of street lighting. Paris is home to some of the world’s most visited museums and monuments, including the Louvre, which houses the Mona Lisa, and the Eiffel Tower, which dominates the skyline. Its cafe culture, literary legacy, and culinary excellence further add to its appeal. \\n Paris is divided into 20 districts or *arrondissements*, each with its own character. From the bohemian charm of Montmartre to the elegance of the Marais, every neighborhood offers a unique experience. Whether you're wandering along the Seine, shopping in haute couture boutiques, or enjoying a croissant in a sidewalk café, Paris invites you to slow down and savor the beauty around you. \\n --- \\n ### Must-Visit Places in Paris: \\n * **Eiffel Tower** \\n * **Louvre Museum** \\n * **Notre-Dame Cathedral** \\n * **Sainte-Chapelle** \\n * **Montmartre & Sacré-Cœur** \\n * **Champs-Élysées & Arc de Triomphe** \\n * **Palace of Versailles** (just outside Paris) \\n * **Musée d'Orsay** \\n * **Luxembourg Gardens** \\n * **Seine River Cruise** \\n * **Père Lachaise Cemetery** \\n * **Le Marais District** \\n * **Latin Quarter** \\n * **Tuileries Garden** \\n * **Opéra Garnier**\" },\n",
    "    { \"role\": \"user\", \"content\": \"How many days should I plan for?\" },\n",
    "]\n",
    "\n",
    "print(messages)\n",
    "print(messages[1:])\n",
    "print(messages_2)"
   ]
  },
  {
   "cell_type": "code",
   "execution_count": 3,
   "id": "a1e1e12c",
   "metadata": {},
   "outputs": [
    {
     "name": "stdout",
     "output_type": "stream",
     "text": [
      "Message 1\n",
      "Tokens:  [58, 40200, 8716, 2337, 461, 17360, 787, 461, 3252, 2337, 461, 3575, 553, 261, 10297, 29186, 13, 30985, 306, 52647, 827, 11888, 6439, 13, 1843, 1062, 6623, 2164, 382, 6118, 11, 3810, 290, 1825, 395, 480, 2254, 634, 6052, 8856, 4180, 11881, 8716, 2337, 461, 1428, 787, 461, 3252, 2337, 461, 4827, 382, 290, 9029, 328, 10128, 48511, 4180, 11881, 8716, 2337, 461, 173781, 787, 461, 3252, 2337, 461, 976, 9029, 328, 10128, 382, 12650, 8856, 4180, 11881, 8716, 2337, 461, 1428, 787, 461, 3252, 2337, 461, 10930, 668, 220, 18, 77584, 1078, 55530, 326, 261, 1562, 328, 9610, 316, 4030, 59350, 11881, 8716, 2337, 461, 173781, 787, 461, 3252, 2337, 188301, 72782, 410, 382, 290, 9029, 326, 10574, 5030, 328, 10128, 11, 5542, 43727, 395, 1617, 1957, 11, 12808, 11, 41185, 29775, 11, 326, 9674, 13, 139431, 402, 290, 13728, 74722, 11, 12650, 853, 1339, 261, 5035, 6170, 328, 17496, 11, 140888, 11, 41881, 11, 326, 40944, 3630, 290, 220, 1422, 404, 14015, 13, 13974, 10358, 5678, 382, 45264, 306, 1617, 24022, 178328, 81461, 9059, 1736, 81, 1288, 316, 6363, 17573, 3944, 3098, 35251, 1617, 16044, 15093, 316, 9591, 5466, 9674, 326, 23118, 15043, 77, 623, 5030, 382, 4783, 22653, 316, 472, 392, 976, 5686, 328, 12936, 1, 5192, 316, 1617, 8117, 5430, 3354, 290, 21108, 328, 159801, 100506, 326, 1617, 6047, 36227, 328, 12901, 21787, 13, 12650, 382, 2237, 316, 1236, 328, 290, 2375, 802, 1645, 18416, 62888, 326, 91876, 11, 3463, 290, 168662, 11, 1118, 20327, 290, 135869, 44225, 11, 326, 290, 155511, 37994, 11, 1118, 168430, 290, 138561, 13, 13974, 50672, 9674, 11, 44015, 33304, 11, 326, 69119, 38794, 6544, 1147, 316, 1617, 21446, 13, 2381, 77, 12650, 382, 28261, 1511, 220, 455, 46334, 503, 425, 1614, 1415, 55898, 24077, 2454, 483, 1617, 2316, 5855, 13, 7217, 290, 1581, 128787, 33606, 328, 11992, 30028, 264, 316, 290, 65179, 328, 290, 3145, 1873, 11, 1753, 17528, 5297, 261, 5746, 3240, 13, 14959, 481, 19780, 264, 95286, 4251, 290, 74722, 11, 11606, 306, 49646, 139344, 108274, 11, 503, 24602, 261, 11270, 31359, 306, 261, 78208, 30469, 11, 12650, 59228, 481, 316, 9800, 1917, 326, 156553, 290, 14505, 2846, 481, 13, 2381, 77, 26691, 2381, 77, 37633, 20953, 12, 30514, 61128, 306, 12650, 25, 2381, 77, 425, 6240, 36, 129338, 37994, 410, 2381, 77, 425, 6240, 43, 81331, 17982, 410, 2381, 77, 425, 6240, 71851, 190700, 73752, 410, 2381, 77, 425, 6240, 50, 48434, 40468, 403, 3486, 410, 2381, 77, 425, 6240, 46920, 30028, 264, 827, 31575, 22830, 10050, 38909, 410, 2381, 77, 425, 6240, 1205, 13580, 12, 5859, 37543, 5161, 827, 34470, 334, 25062, 23036, 273, 410, 2381, 77, 425, 6240, 16476, 675, 328, 138349, 410, 350, 5283, 7539, 12650, 8, 2381, 77, 425, 6240, 48816, 2894, 272, 19780, 2251, 64494, 410, 2381, 77, 425, 6240, 77881, 2072, 47609, 50412, 410, 2381, 77, 425, 6240, 1584, 514, 13728, 59371, 410, 2381, 77, 425, 6240, 47, 4346, 451, 20564, 1096, 78462, 410, 2381, 77, 425, 6240, 2486, 3145, 1873, 15071, 410, 2381, 77, 425, 6240, 84800, 58524, 410, 2381, 77, 425, 6240, 51, 2726, 22937, 22294, 410, 2381, 77, 425, 6240, 7766, 31415, 91256, 905, 410, 59350, 11881, 8716, 2337, 461, 1428, 787, 461, 3252, 2337, 461, 5299, 1991, 3376, 1757, 357, 3496, 395, 30, 17352, 60]\n",
      "Estimate input token count:  548\n",
      "System prompt token count:  29\n",
      "================================================\n",
      "Message 2\n",
      "Tokens:  [58, 40200, 8716, 2337, 461, 17360, 787, 461, 3252, 2337, 461, 3575, 553, 261, 5937, 11, 11888, 11, 326, 10851, 49951, 6410, 29186, 326, 18600, 11793, 13, 4886, 8583, 382, 316, 1652, 5385, 3496, 27647, 395, 18211, 11, 26585, 11, 1101, 11, 5012, 11, 52778, 11, 3502, 82842, 11, 503, 1273, 14189, 13, 30141, 62340, 634, 22499, 4122, 402, 1043, 4857, 6410, 5207, 11, 9946, 11, 8831, 5517, 11, 3566, 2349, 11, 326, 26473, 15043, 77, 3392, 877, 16309, 155920, 827, 64804, 3392, 16, 13, 30141, 61400, 290, 1825, 155789, 11, 125460, 1043, 16969, 6410, 5207, 15043, 77, 17, 13, 23600, 395, 12486, 8731, 2164, 2254, 1721, 5066, 261, 3496, 25, 9946, 11, 6410, 81410, 350, 8096, 326, 6301, 936, 20713, 13599, 11, 4931, 328, 12839, 11, 6410, 15424, 11, 326, 1062, 61220, 503, 30152, 57179, 15043, 77, 18, 13, 2214, 1753, 35005, 11, 39712, 1096, 6240, 50576, 11, 97666, 11, 326, 45632, 410, 13, 3756, 625, 140412, 7749, 503, 30152, 2164, 26, 7665, 11, 9165, 290, 1825, 316, 107087, 11, 7313, 11525, 538, 481, 6284, 7620, 3543, 15043, 77, 19, 13, 36624, 722, 22488, 306, 261, 6240, 14994, 11, 47557, 6011, 410, 483, 118908, 11, 1543, 3636, 963, 11, 326, 31926, 5571, 13, 46613, 1701, 537, 85408, 77584, 15043, 77, 20, 13, 7649, 4561, 75841, 395, 7749, 9140, 11, 30152, 9607, 11, 326, 21380, 350, 3942, 316, 7313, 6059, 503, 125157, 12162, 182166, 77, 21, 13, 30141, 12332, 306, 44926, 165699, 57179, 11, 751, 26585, 11, 54083, 11, 503, 25689, 28089, 540, 290, 13330, 15043, 77, 22, 13, 134450, 290, 1825, 3572, 413, 261, 1577, 10158, 28939, 316, 290, 13330, 11, 813, 3931, 3814, 326, 17377, 9858, 15043, 77, 3392, 877, 25267, 18315, 26193, 395, 12625, 10867, 3392, 31639, 31653, 3392, 38169, 289, 591, 25, 354, 17500, 11, 4931, 92, 2733, 354, 122649, 3521, 306, 121985, 52933, 11, 45694, 21170, 77, 38169, 289, 316, 25, 354, 17500, 11, 4931, 92, 2733, 354, 183251, 3521, 306, 121985, 52933, 11, 45694, 21170, 77, 58, 35313, 659, 13599, 328, 5092, 60, 350, 63242, 395, 2454, 5666, 306, 12151, 2469, 15822, 27647, 23428, 77, 38169, 5207, 25, 354, 42743, 21170, 77, 55743, 25, 354, 32501, 10038, 29124, 10703, 21170, 77, 38169, 289, 483, 25, 354, 9186, 328, 3566, 11, 2086, 328, 1665, 21170, 77, 3392, 31639, 32055, 42943, 3392, 122003, 42943, 16008, 77, 12, 723, 92384, 5571, 483, 23292, 111146, 41488, 77, 12, 11555, 23292, 1757, 3931, 261, 4022, 109366, 350, 60291, 6118, 23428, 77, 11977, 316, 28921, 395, 41655, 16008, 77, 12, 723, 62873, 3438, 9362, 41488, 77, 5299, 7790, 16935, 316, 7972, 35455, 16008, 77, 12, 723, 92384, 5571, 483, 22499, 41488, 77, 13863, 32055, 42943, 16008, 77, 12, 723, 92384, 5571, 26, 3931, 40985, 11, 3230, 9140, 11, 8112, 41620, 41488, 77, 3392, 31639, 29386, 42816, 22483, 2733, 185530, 3392, 58, 4202, 483, 15697, 25, 151485, 11, 18328, 11, 38479, 11, 187600, 11, 32157, 2733, 2344, 220, 702, 20099, 656, 1636, 10636, 328, 3097, 326, 1058, 41488, 77, 3392, 31639, 29386, 42816, 22483, 2733, 6318, 3392, 58, 4202, 483, 2684, 15697, 2733, 2344, 220, 702, 41488, 77, 3392, 31639, 1225, 126808, 395, 723, 35313, 41488, 77, 7, 49704, 495, 7102, 395, 2454, 13330, 306, 261, 12151, 2469, 15822, 8831, 23428, 77, 16, 13, 11920, 395, 24861, 1058, 11, 2867, 326, 17776, 11, 326, 2698, 7704, 18744, 15043, 77, 17, 13, 43810, 2140, 35340, 503, 6124, 679, 4951, 42041, 1058, 15043, 77, 18, 13, 4063, 44926, 503, 12945, 31999, 49015, 15043, 77, 19, 13, 2214, 2454, 8831, 591, 2438, 355, 316, 418, 11, 1562, 3407, 52235, 7704, 3880, 11, 1636, 1577, 11, 483, 8508, 14, 9673, 15043, 77, 20, 13, 16349, 12781, 11, 3931, 5746, 11, 56644, 28952, 13189, 15043, 77, 21, 13, 132059, 6451, 21316, 350, 28393, 11, 51297, 11, 109671, 182166, 77, 3392, 877, 33202, 30207, 153256, 3392, 12, 6240, 55743, 41301, 142760, 81118, 22499, 316, 290, 1825, 19780, 82, 16969, 9946, 2733, 8397, 43639, 65677, 14818, 3880, 12604, 1825, 45615, 13782, 21510, 15043, 77, 12, 6240, 74598, 827, 7203, 142760, 1843, 261, 7967, 853, 6410, 14627, 3279, 11, 15940, 1373, 483, 261, 2823, 3461, 316, 290, 64831, 4256, 15043, 77, 12, 6240, 34, 17044, 9858, 142760, 51441, 143420, 11, 6439, 42280, 11, 326, 621, 19780, 82, 6662, 263, 19780, 1561, 395, 2454, 13330, 15043, 77, 12, 6240, 84781, 142760, 16349, 4149, 11, 7477, 538, 39004, 11, 18536, 11, 503, 7704, 553, 18240, 395, 1665, 483, 46746, 15043, 77, 12, 6240, 27363, 827, 18191, 142760, 62122, 2804, 12, 1806, 2698, 29284, 326, 7703, 15700, 15040, 15043, 77, 12, 6240, 154145, 21561, 142760, 2655, 16721, 12, 43793, 44562, 4732, 4122, 402, 6410, 15424, 326, 11122, 1238, 15043, 77, 12, 6240, 89367, 142760, 50210, 5377, 402, 34673, 10541, 11, 319, 81472, 82, 11, 326, 14619, 22758, 18744, 15043, 77, 3392, 877, 24855, 79895, 40924, 346, 75155, 929, 3392, 31639, 24855, 220, 16, 2733, 15362, 79531, 19291, 3392, 1844, 25, 392, 40, 4572, 2966, 316, 122657, 395, 220, 19, 3376, 3354, 60225, 128113, 5217, 117264, 77, 91655, 16008, 77, 58, 94272, 3149, 47557, 3496, 11, 3463, 7749, 9140, 538, 12781, 11, 21046, 76389, 483, 60225, 128113, 26379, 25522, 11, 7704, 11, 6372, 6723, 11, 326, 44926, 12870, 41488, 77, 3392, 31639, 24855, 220, 17, 2733, 8688, 21698, 3392, 1844, 25, 392, 40, 4572, 29908, 261, 220, 20, 14540, 6705, 15465, 306, 21230, 591, 8405, 117264, 77, 91655, 16008, 77, 58, 136093, 3496, 483, 30152, 5377, 11, 19486, 18536, 316, 15465, 26613, 11, 15186, 143420, 11, 34673, 4766, 3880, 11, 14456, 8173, 41488, 77, 3392, 31639, 24855, 220, 18, 2733, 14098, 80017, 3392, 1844, 25, 392, 19687, 8831, 316, 2036, 24044, 395, 220, 17, 7449, 591, 290, 8370, 117264, 77, 91655, 16008, 77, 58, 136093, 3496, 483, 12151, 2469, 15822, 76389, 11, 12987, 9656, 11, 2320, 22301, 35340, 11, 9946, 110693, 25738, 41488, 77, 3392, 10356, 59, 77, 48258, 62289, 316, 290, 8866, 326, 13636, 31756, 5151, 13, 3756, 625, 16677, 21436, 12604, 290, 1825, 45615, 28362, 82, 10275, 13, 1843, 62827, 11, 621, 625, 3931, 1238, 11, 503, 3810, 106819, 278, 1808, 11, 503, 2438, 1825, 402, 1919, 316, 717, 12331, 5377, 13, 3756, 625, 3644, 2164, 481, 553, 6675, 625, 3239, 1078, 13, 1843, 8437, 553, 625, 2839, 1299, 1880, 2624, 11, 5178, 13, 2733, 1623, 290, 1825, 1078, 290, 2684, 326, 3644, 1373, 31495, 402, 1495, 1023, 2023, 1646, 290, 2164, 1373, 4500, 3350, 350, 1821, 1053, 1653, 17492, 23206, 2105, 741, 2214, 1645, 136681, 11, 60114, 2733, 59, 16074, 15, 20997, 290, 14716, 2539, 52647, 13, 16935, 55959, 1825, 19780, 82, 4928, 2733, 3810, 722, 290, 8155, 5359, 14, 1447, 395, 290, 2164, 481, 19780, 67, 1309, 316, 413, 3741, 316, 6052, 1043, 5359, 461, 4180, 11881, 8716, 2337, 461, 1428, 787, 461, 3252, 2337, 461, 4827, 382, 290, 9029, 328, 10128, 48511, 4180, 11881, 8716, 2337, 461, 173781, 787, 461, 3252, 2337, 461, 976, 9029, 328, 10128, 382, 12650, 8856, 4180, 11881, 8716, 2337, 461, 1428, 787, 461, 3252, 2337, 461, 10930, 668, 220, 18, 77584, 1078, 55530, 326, 261, 1562, 328, 9610, 316, 4030, 59350, 11881, 8716, 2337, 461, 173781, 787, 461, 3252, 2337, 188301, 72782, 410, 382, 290, 9029, 326, 10574, 5030, 328, 10128, 11, 5542, 43727, 395, 1617, 1957, 11, 12808, 11, 41185, 29775, 11, 326, 9674, 13, 139431, 402, 290, 13728, 74722, 11, 12650, 853, 1339, 261, 5035, 6170, 328, 17496, 11, 140888, 11, 41881, 11, 326, 40944, 3630, 290, 220, 1422, 404, 14015, 13, 13974, 10358, 5678, 382, 45264, 306, 1617, 24022, 178328, 81461, 9059, 1736, 81, 1288, 316, 6363, 17573, 3944, 3098, 35251, 1617, 16044, 15093, 316, 9591, 5466, 9674, 326, 23118, 15043, 77, 623, 5030, 382, 4783, 22653, 316, 472, 392, 976, 5686, 328, 12936, 1, 5192, 316, 1617, 8117, 5430, 3354, 290, 21108, 328, 159801, 100506, 326, 1617, 6047, 36227, 328, 12901, 21787, 13, 12650, 382, 2237, 316, 1236, 328, 290, 2375, 802, 1645, 18416, 62888, 326, 91876, 11, 3463, 290, 168662, 11, 1118, 20327, 290, 135869, 44225, 11, 326, 290, 155511, 37994, 11, 1118, 168430, 290, 138561, 13, 13974, 50672, 9674, 11, 44015, 33304, 11, 326, 69119, 38794, 6544, 1147, 316, 1617, 21446, 13, 2381, 77, 12650, 382, 28261, 1511, 220, 455, 46334, 503, 425, 1614, 1415, 55898, 24077, 2454, 483, 1617, 2316, 5855, 13, 7217, 290, 1581, 128787, 33606, 328, 11992, 30028, 264, 316, 290, 65179, 328, 290, 3145, 1873, 11, 1753, 17528, 5297, 261, 5746, 3240, 13, 14959, 481, 19780, 264, 95286, 4251, 290, 74722, 11, 11606, 306, 49646, 139344, 108274, 11, 503, 24602, 261, 11270, 31359, 306, 261, 78208, 30469, 11, 12650, 59228, 481, 316, 9800, 1917, 326, 156553, 290, 14505, 2846, 481, 13, 2381, 77, 26691, 2381, 77, 37633, 20953, 12, 30514, 61128, 306, 12650, 25, 2381, 77, 425, 6240, 36, 129338, 37994, 410, 2381, 77, 425, 6240, 43, 81331, 17982, 410, 2381, 77, 425, 6240, 71851, 190700, 73752, 410, 2381, 77, 425, 6240, 50, 48434, 40468, 403, 3486, 410, 2381, 77, 425, 6240, 46920, 30028, 264, 827, 31575, 22830, 10050, 38909, 410, 2381, 77, 425, 6240, 1205, 13580, 12, 5859, 37543, 5161, 827, 34470, 334, 25062, 23036, 273, 410, 2381, 77, 425, 6240, 16476, 675, 328, 138349, 410, 350, 5283, 7539, 12650, 8, 2381, 77, 425, 6240, 48816, 2894, 272, 19780, 2251, 64494, 410, 2381, 77, 425, 6240, 77881, 2072, 47609, 50412, 410, 2381, 77, 425, 6240, 1584, 514, 13728, 59371, 410, 2381, 77, 425, 6240, 47, 4346, 451, 20564, 1096, 78462, 410, 2381, 77, 425, 6240, 2486, 3145, 1873, 15071, 410, 2381, 77, 425, 6240, 84800, 58524, 410, 2381, 77, 425, 6240, 51, 2726, 22937, 22294, 410, 2381, 77, 425, 6240, 7766, 31415, 91256, 905, 410, 59350, 11881, 8716, 2337, 461, 1428, 787, 461, 3252, 2337, 461, 5299, 1991, 3376, 1757, 357, 3496, 395, 30, 17352, 60]\n",
      "Estimate input token count:  1624\n",
      "System prompt token count:  1034\n"
     ]
    }
   ],
   "source": [
    "import tiktoken\n",
    "\n",
    "enc = tiktoken.encoding_for_model(\"gpt-4o-mini\")\n",
    "\n",
    "#combine all the messages[x].content into a single string\n",
    "\n",
    "# string_messages = \"\"\n",
    "\n",
    "# for m in messages:\n",
    "#     string_messages += \"{\" + m['role'] + \": \" + \" \" + m['content'] + \"}, \"\n",
    "    \n",
    "# print(string_messages)\n",
    "\n",
    "\n",
    "tokens = enc.encode(str(messages))\n",
    "tokens_sys_prompt = enc.encode(messages[0]['content'])\n",
    "\n",
    "print(\"Message 1\")\n",
    "print(\"Tokens: \", tokens)\n",
    "print(\"Estimate input token count: \", len(tokens))\n",
    "print(\"System prompt token count: \", len(tokens_sys_prompt))\n",
    "print(\"================================================\")\n",
    "\n",
    "# Message 2 \n",
    "print(\"Message 2\")\n",
    "tokens_2 = enc.encode(str(messages_2))\n",
    "tokens_2_sys_prompt = enc.encode(messages_2[0]['content'])\n",
    "\n",
    "print(\"Tokens: \", tokens_2)\n",
    "print(\"Estimate input token count: \", len(tokens_2))\n",
    "print(\"System prompt token count: \", len(tokens_2_sys_prompt))\n"
   ]
  },
  {
   "cell_type": "code",
   "execution_count": 4,
   "id": "3a7d3006",
   "metadata": {},
   "outputs": [
    {
     "name": "stdout",
     "output_type": "stream",
     "text": [
      "ChatCompletion(id='chatcmpl-C2TfPJ9J6lLuD9apdd3ZJrYVCEym7', choices=[Choice(finish_reason='length', index=0, logprobs=None, message=ChatCompletionMessage(content='It depends on what you want to see and do in Paris! \\n\\n- **3 to 4 days**: This is a great option for a first-time visit, allowing you to explore major attractions like the Eiffel Tower, Louvre, Notre-Dame,', refusal=None, role='assistant', annotations=[], audio=None, function_call=None, tool_calls=None))], created=1754706731, model='gpt-4o-mini-2024-07-18', object='chat.completion', service_tier='default', system_fingerprint='fp_34a54ae93c', usage=CompletionUsage(completion_tokens=50, prompt_tokens=486, total_tokens=536, completion_tokens_details=CompletionTokensDetails(accepted_prediction_tokens=0, audio_tokens=0, reasoning_tokens=0, rejected_prediction_tokens=0), prompt_tokens_details=PromptTokensDetails(audio_tokens=0, cached_tokens=0)))\n",
      "CompletionUsage(completion_tokens=50, prompt_tokens=486, total_tokens=536, completion_tokens_details=CompletionTokensDetails(accepted_prediction_tokens=0, audio_tokens=0, reasoning_tokens=0, rejected_prediction_tokens=0), prompt_tokens_details=PromptTokensDetails(audio_tokens=0, cached_tokens=0))\n",
      "================\n",
      "Total tokens:\n",
      "536\n",
      "Prompt tokens: (Input Tokens)\n",
      "486\n",
      "Cached Prompt Tokens:\n",
      "0\n",
      "Completion Tokens: (Output Tokens)\n",
      "50\n",
      "It depends on what you want to see and do in Paris! \n",
      "\n",
      "- **3 to 4 days**: This is a great option for a first-time visit, allowing you to explore major attractions like the Eiffel Tower, Louvre, Notre-Dame,\n"
     ]
    }
   ],
   "source": [
    "# CHat completion openai call to get a response for messages\n",
    "\n",
    "import os\n",
    "from openai import OpenAI\n",
    "from dotenv import load_dotenv\n",
    "\n",
    "load_dotenv()\n",
    "\n",
    "client = OpenAI(api_key=os.getenv(\"OPENAI_API_KEY\"))\n",
    "\n",
    "\n",
    "#Chat Completion\n",
    "response = client.chat.completions.create(\n",
    "    model=\"gpt-4o-mini\",\n",
    "    messages=messages,\n",
    "    max_tokens=50,\n",
    ")\n",
    "\n",
    "\n",
    "print(response)\n",
    "print(response.usage)\n",
    "print(\"================\")\n",
    "print(\"Total tokens:\")\n",
    "print(response.usage.total_tokens)\n",
    "print(\"Prompt tokens: (Input Tokens)\")\n",
    "print(response.usage.prompt_tokens)\n",
    "print(\"Cached Prompt Tokens:\")\n",
    "print(response.usage.prompt_tokens_details.cached_tokens)\n",
    "print(\"Completion Tokens: (Output Tokens)\")\n",
    "print(response.usage.completion_tokens)\n",
    "print(response.choices[0].message.content)"
   ]
  },
  {
   "cell_type": "code",
   "execution_count": 5,
   "id": "cab27260",
   "metadata": {},
   "outputs": [
    {
     "name": "stdout",
     "output_type": "stream",
     "text": [
      "First Message\n",
      "Input Cost:  7.29e-05\n",
      "Output Cost:  2.9999999999999997e-05\n",
      "Total Cost:  0.0001029\n"
     ]
    }
   ],
   "source": [
    "# Prices (per token)\n",
    "\n",
    "input_text_token_price = 0.00000015\n",
    "input_text_cached_token_price = 0.000000075\n",
    "output_text_token_price = 0.0000006\n",
    "\n",
    "\n",
    "# Cost without Caching \n",
    "input_text_token_cost = input_text_token_price * response.usage.prompt_tokens\n",
    "output_text_token_cost = output_text_token_price * response.usage.completion_tokens\n",
    "total_cost = input_text_token_cost + output_text_token_cost\n",
    "\n",
    "\n",
    "print(\"First Message\")\n",
    "print(\"Input Cost: \", input_text_token_cost)\n",
    "print(\"Output Cost: \", output_text_token_cost)\n",
    "print(\"Total Cost: \", total_cost)"
   ]
  },
  {
   "cell_type": "code",
   "execution_count": 6,
   "id": "bf0d38bf",
   "metadata": {},
   "outputs": [
    {
     "name": "stdout",
     "output_type": "stream",
     "text": [
      "ChatCompletion(id='chatcmpl-C2TfQ8Y03tMwChqhpOCFDiRCmZxCi', choices=[Choice(finish_reason='length', index=0, logprobs=None, message=ChatCompletionMessage(content='The number of days you should plan for a trip to Paris can vary based on your interests and itinerary. Here are some general recommendations:\\n\\n### Short Trip (3-4 days)\\n- **Ideal for:** First-time visitors who want to see the major highlights.\\n- **Focus on:** Must-see attractions like the Eiffel Tower, Louvre Museum, Notre-Dame Cathedral, and a stroll along the Seine. You can also fit in a day trip to Versailles.\\n\\n### Moderate Trip (5-7 days)\\n-', refusal=None, role='assistant', annotations=[], audio=None, function_call=None, tool_calls=None))], created=1754706732, model='gpt-4o-mini-2024-07-18', object='chat.completion', service_tier='default', system_fingerprint='fp_34a54ae93c', usage=CompletionUsage(completion_tokens=100, prompt_tokens=1491, total_tokens=1591, completion_tokens_details=CompletionTokensDetails(accepted_prediction_tokens=0, audio_tokens=0, reasoning_tokens=0, rejected_prediction_tokens=0), prompt_tokens_details=PromptTokensDetails(audio_tokens=0, cached_tokens=0)))\n",
      "CompletionUsage(completion_tokens=100, prompt_tokens=1491, total_tokens=1591, completion_tokens_details=CompletionTokensDetails(accepted_prediction_tokens=0, audio_tokens=0, reasoning_tokens=0, rejected_prediction_tokens=0), prompt_tokens_details=PromptTokensDetails(audio_tokens=0, cached_tokens=0))\n",
      "================\n",
      "Total tokens:\n",
      "1591\n",
      "Prompt tokens: (Input Tokens)\n",
      "1491\n",
      "Cached Prompt Tokens:\n",
      "0\n",
      "Completion Tokens: (Output Tokens)\n",
      "100\n",
      "================\n",
      "The number of days you should plan for a trip to Paris can vary based on your interests and itinerary. Here are some general recommendations:\n",
      "\n",
      "### Short Trip (3-4 days)\n",
      "- **Ideal for:** First-time visitors who want to see the major highlights.\n",
      "- **Focus on:** Must-see attractions like the Eiffel Tower, Louvre Museum, Notre-Dame Cathedral, and a stroll along the Seine. You can also fit in a day trip to Versailles.\n",
      "\n",
      "### Moderate Trip (5-7 days)\n",
      "-\n"
     ]
    }
   ],
   "source": [
    "# Caching kicks-in at 1024 tokens\n",
    "\n",
    "#Chat Completion\n",
    "response_2 = client.chat.completions.create(\n",
    "    model=\"gpt-4o-mini\",\n",
    "    messages=messages_2,\n",
    "    max_tokens=100,\n",
    ")\n",
    "\n",
    "\n",
    "\n",
    "print(response_2)\n",
    "print(response_2.usage)\n",
    "print(\"================\")\n",
    "print(\"Total tokens:\")\n",
    "print(response_2.usage.total_tokens)\n",
    "print(\"Prompt tokens: (Input Tokens)\")\n",
    "print(response_2.usage.prompt_tokens)\n",
    "print(\"Cached Prompt Tokens:\")\n",
    "print(response_2.usage.prompt_tokens_details.cached_tokens)\n",
    "print(\"Completion Tokens: (Output Tokens)\")\n",
    "print(response_2.usage.completion_tokens)\n",
    "print(\"================\")\n",
    "print(response_2.choices[0].message.content)"
   ]
  },
  {
   "cell_type": "code",
   "execution_count": 7,
   "id": "b3fa39be",
   "metadata": {},
   "outputs": [
    {
     "name": "stdout",
     "output_type": "stream",
     "text": [
      "Uncached input text tokens:  1491\n",
      "Caching\n",
      "Input text uncached token cost:  0.00022365\n",
      "Input text cached token cost:  0.0\n",
      "Total input text token cost:  0.00022365\n",
      "Output text token cost:  5.9999999999999995e-05\n",
      "Total cost:  0.00028365\n"
     ]
    }
   ],
   "source": [
    "# Cost without Caching \n",
    "\n",
    "uncached_input_text_tokens = response_2.usage.prompt_tokens - response_2.usage.prompt_tokens_details.cached_tokens\n",
    "print(\"Uncached input text tokens: \", uncached_input_text_tokens)\n",
    "\n",
    "ucached_input_text_token_cost = uncached_input_text_tokens * input_text_token_price\n",
    "cached_input_text_token_cost = response_2.usage.prompt_tokens_details.cached_tokens * input_text_cached_token_price\n",
    "input_text_token_cost = ucached_input_text_token_cost + cached_input_text_token_cost\n",
    "output_text_token_cost = output_text_token_price * response_2.usage.completion_tokens\n",
    "\n",
    "print(\"Caching\")\n",
    "print(\"Input text uncached token cost: \", ucached_input_text_token_cost)\n",
    "print(\"Input text cached token cost: \", cached_input_text_token_cost)\n",
    "print(\"Total input text token cost: \", input_text_token_cost)\n",
    "print(\"Output text token cost: \", output_text_token_cost)\n",
    "print(\"Total cost: \", input_text_token_cost + output_text_token_cost)\n"
   ]
  },
  {
   "cell_type": "code",
   "execution_count": 8,
   "id": "91469155",
   "metadata": {},
   "outputs": [
    {
     "name": "stdout",
     "output_type": "stream",
     "text": [
      "ChatCompletion(id='chatcmpl-C2TfSwSUp8xoVmK1pXqmZiY94M90K', choices=[Choice(finish_reason='length', index=0, logprobs=None, message=ChatCompletionMessage(content='The ideal duration for a trip to Paris can vary depending on your interests, travel style, and the experiences you wish to have. However, I recommend the following:\\n\\n### Recommended Duration: \\n- **3 Days**: Perfect for first-time visitors who want to cover the main attractions like the Eiffel Tower, Louvre, and Notre-Dame Cathedral. This duration allows for a decent overview of the city but may feel rushed.\\n- **5 Days**: This timeframe lets you explore major sites in-depth, such', refusal=None, role='assistant', annotations=[], audio=None, function_call=None, tool_calls=None))], created=1754706734, model='gpt-4o-mini-2024-07-18', object='chat.completion', service_tier='default', system_fingerprint='fp_34a54ae93c', usage=CompletionUsage(completion_tokens=100, prompt_tokens=1491, total_tokens=1591, completion_tokens_details=CompletionTokensDetails(accepted_prediction_tokens=0, audio_tokens=0, reasoning_tokens=0, rejected_prediction_tokens=0), prompt_tokens_details=PromptTokensDetails(audio_tokens=0, cached_tokens=1408)))\n",
      "CompletionUsage(completion_tokens=100, prompt_tokens=1491, total_tokens=1591, completion_tokens_details=CompletionTokensDetails(accepted_prediction_tokens=0, audio_tokens=0, reasoning_tokens=0, rejected_prediction_tokens=0), prompt_tokens_details=PromptTokensDetails(audio_tokens=0, cached_tokens=1408))\n",
      "================\n",
      "Total tokens:\n",
      "1591\n",
      "Prompt tokens: (Input Tokens)\n",
      "1491\n",
      "Cached Prompt Tokens:\n",
      "1408\n",
      "Completion Tokens: (Output Tokens)\n",
      "100\n",
      "The ideal duration for a trip to Paris can vary depending on your interests, travel style, and the experiences you wish to have. However, I recommend the following:\n",
      "\n",
      "### Recommended Duration: \n",
      "- **3 Days**: Perfect for first-time visitors who want to cover the main attractions like the Eiffel Tower, Louvre, and Notre-Dame Cathedral. This duration allows for a decent overview of the city but may feel rushed.\n",
      "- **5 Days**: This timeframe lets you explore major sites in-depth, such\n"
     ]
    }
   ],
   "source": [
    "# This should have cached tokens\n",
    "#Chat Completion\n",
    "response_2 = client.chat.completions.create(\n",
    "    model=\"gpt-4o-mini\",\n",
    "    messages=messages_2,\n",
    "    max_tokens=100,\n",
    ")\n",
    "\n",
    "\n",
    "\n",
    "print(response_2)\n",
    "print(response_2.usage)\n",
    "print(\"================\")\n",
    "print(\"Total tokens:\")\n",
    "print(response_2.usage.total_tokens)\n",
    "print(\"Prompt tokens: (Input Tokens)\")\n",
    "print(response_2.usage.prompt_tokens)\n",
    "print(\"Cached Prompt Tokens:\")\n",
    "print(response_2.usage.prompt_tokens_details.cached_tokens)\n",
    "print(\"Completion Tokens: (Output Tokens)\")\n",
    "print(response_2.usage.completion_tokens)\n",
    "print(response_2.choices[0].message.content)"
   ]
  },
  {
   "cell_type": "code",
   "execution_count": 9,
   "id": "9979d74f",
   "metadata": {},
   "outputs": [
    {
     "name": "stdout",
     "output_type": "stream",
     "text": [
      "2\n"
     ]
    }
   ],
   "source": [
    "budget = 550; \n",
    "\n",
    "output_token_budget = budget - len(tokens)\n",
    "\n",
    "print(output_token_budget)\n",
    "\n",
    "# Simillar deal for context-window management"
   ]
  },
  {
   "cell_type": "markdown",
   "id": "09ff5be7",
   "metadata": {},
   "source": [
    "## Anthropic"
   ]
  },
  {
   "cell_type": "code",
   "execution_count": 10,
   "id": "a53522c8",
   "metadata": {},
   "outputs": [
    {
     "name": "stdout",
     "output_type": "stream",
     "text": [
      "556\n"
     ]
    }
   ],
   "source": [
    "import anthropic\n",
    "import json\n",
    "\n",
    "# Create messages list with role=system\n",
    "\n",
    "client = anthropic.Anthropic()\n",
    "\n",
    "anthropic_response = client.messages.count_tokens(\n",
    "    model=\"claude-opus-4-1-20250805\",\n",
    "    system=\"You are a helpful assistant. Answer in crisp & friendly language\",\n",
    "    messages=messages[1:],\n",
    ")\n",
    "\n",
    "processed_response = json.loads(anthropic_response.model_dump_json())\n",
    "\n",
    "print(processed_response['input_tokens'])"
   ]
  },
  {
   "cell_type": "code",
   "execution_count": 11,
   "id": "050c0180",
   "metadata": {},
   "outputs": [
    {
     "name": "stdout",
     "output_type": "stream",
     "text": [
      "Budget:  55.6\n",
      "================================================\n",
      "Response:  For Paris, I'd recommend **4-7 days** depending on your travel style:\n",
      "\n",
      "**4-5 days** is perfect for first-time visitors who want to see the major highlights without feeling rushed. This gives you time for the Eiffel\n",
      "================================================\n",
      "Usage:  Usage(cache_creation_input_tokens=0, cache_read_input_tokens=0, input_tokens=556, output_tokens=55, server_tool_use=None, service_tier='standard')\n",
      "Input tokens:  556\n",
      "Output tokens:  55\n",
      "Total tokens:  611\n",
      "================================================\n",
      "Cached tokens (write):  0\n",
      "Cached tokens (read):  0\n",
      "================================================\n"
     ]
    }
   ],
   "source": [
    "budget = processed_response['input_tokens'] * 10/100\n",
    "\n",
    "print(\"Budget: \", budget)\n",
    "print(\"================================================\")\n",
    "\n",
    "\n",
    "anthropic_response = client.messages.create(\n",
    "    model=\"claude-sonnet-4-20250514\",\n",
    "    system=\"You are a helpful assistant. Answer in crisp & friendly language\",\n",
    "    messages=messages[1:],\n",
    "    max_tokens=int(budget),\n",
    ")\n",
    "\n",
    "\n",
    "print(\"Response: \", anthropic_response.content[0].text)\n",
    "print(\"================================================\")\n",
    "print(\"Usage: \", anthropic_response.usage)\n",
    "print(\"Input tokens: \", anthropic_response.usage.input_tokens)\n",
    "print(\"Output tokens: \", anthropic_response.usage.output_tokens)\n",
    "print(\"Total tokens: \", anthropic_response.usage.input_tokens + anthropic_response.usage.output_tokens)\n",
    "print(\"================================================\")\n",
    "print(\"Cached tokens (write): \", anthropic_response.usage.cache_creation_input_tokens)\n",
    "print(\"Cached tokens (read): \", anthropic_response.usage.cache_read_input_tokens)\n",
    "print(\"================================================\")"
   ]
  },
  {
   "cell_type": "code",
   "execution_count": 12,
   "id": "8c3b552f",
   "metadata": {},
   "outputs": [
    {
     "name": "stdout",
     "output_type": "stream",
     "text": [
      "Input text token cost:  0.001458\n",
      "Output text token cost:  0.00075\n",
      "Total cost:  0.002208\n"
     ]
    }
   ],
   "source": [
    "# Cost Calculations\n",
    "\n",
    "\n",
    "input_text_token_price = 0.000003\n",
    "output_text_token_price = 0.000015\n",
    "\n",
    "\n",
    "# Caching \n",
    "\n",
    "text_cache_write_token_price = 0.00000375\n",
    "text_cache_read_token_price = 0.0000003\n",
    "\n",
    "\n",
    "# Cost Calculations\n",
    "input_text_token_cost = input_text_token_price * response.usage.prompt_tokens\n",
    "output_text_token_cost = output_text_token_price * response.usage.completion_tokens\n",
    "\n",
    "print(\"Input text token cost: \", input_text_token_cost)\n",
    "print(\"Output text token cost: \", output_text_token_cost)\n",
    "print(\"Total cost: \", input_text_token_cost + output_text_token_cost)\n"
   ]
  },
  {
   "cell_type": "markdown",
   "id": "776b74e4",
   "metadata": {},
   "source": [
    "## Gemini"
   ]
  },
  {
   "cell_type": "code",
   "execution_count": 13,
   "id": "0c7cda9c",
   "metadata": {},
   "outputs": [
    {
     "name": "stdout",
     "output_type": "stream",
     "text": [
      "total_tokens:  sdk_http_response=HttpResponse(\n",
      "  headers=<dict len=11>\n",
      ") total_tokens=11 cached_content_token_count=None\n",
      "================================================\n",
      "Total Tokens:  11\n"
     ]
    }
   ],
   "source": [
    "from google import genai\n",
    "import os\n",
    "from dotenv import load_dotenv\n",
    "\n",
    "load_dotenv()\n",
    "\n",
    "\n",
    "client = genai.Client(api_key=os.getenv(\"GEMINI_API_KEY\"))\n",
    "prompt = \"The quick brown fox jumps over the lazy dog.\"\n",
    "\n",
    "# Count tokens using the new client method.\n",
    "total_tokens = client.models.count_tokens(\n",
    "    model=\"gemini-2.0-flash\", contents=prompt\n",
    ")\n",
    "print(\"total_tokens: \", total_tokens)\n",
    "print(\"================================================\")\n",
    "print(\"Total Tokens: \",json.loads(total_tokens.model_dump_json())['total_tokens'])"
   ]
  },
  {
   "cell_type": "markdown",
   "id": "766d1c5c",
   "metadata": {},
   "source": [
    "# OpenRouter"
   ]
  },
  {
   "cell_type": "code",
   "execution_count": 17,
   "id": "4be1f219",
   "metadata": {},
   "outputs": [
    {
     "name": "stdout",
     "output_type": "stream",
     "text": [
      "✅ API Key loaded successfully.\n",
      "CompletionUsage(completion_tokens=100, prompt_tokens=486, total_tokens=586, completion_tokens_details=CompletionTokensDetails(accepted_prediction_tokens=None, audio_tokens=None, reasoning_tokens=0, rejected_prediction_tokens=None), prompt_tokens_details=PromptTokensDetails(audio_tokens=None, cached_tokens=0))\n",
      "It depends on what you want to see and do in Paris! However, a typical recommendation is:\n",
      "\n",
      "- **3 Days**: A quick getaway covering major highlights like the Eiffel Tower, Louvre, Montmartre, and a Seine River cruise.\n",
      "- **5 Days**: More time to explore additional attractions like Notre-Dame, Musée d'Orsay, and neighborhoods.\n",
      "- **7 Days**: Ideal for a relaxed pace, allowing time for day trips to places like Versailles or Disneyland Paris, as well\n",
      "================================================\n",
      "Total Tokens:  586\n",
      "Prompt Tokens:  486\n",
      "Completion Tokens:  100\n",
      "================================================\n",
      "Prompt Tokens Details:  PromptTokensDetails(audio_tokens=None, cached_tokens=0)\n",
      "Completion Tokens Details:  CompletionTokensDetails(accepted_prediction_tokens=None, audio_tokens=None, reasoning_tokens=0, rejected_prediction_tokens=None)\n",
      "================================================\n",
      "Cached Tokens:  0\n"
     ]
    }
   ],
   "source": [
    "api_key = os.getenv(\"OPENROUTER_API_KEY\")\n",
    "\n",
    "if not api_key:\n",
    "    raise ValueError(\"🔴 OPENROUTER_API_KEY not found. Make sure it's in your .env file.\")\n",
    "\n",
    "print(f\"✅ API Key loaded successfully.\")\n",
    "\n",
    "client = OpenAI(\n",
    "    base_url=\"https://openrouter.ai/api/v1\",\n",
    "    api_key=api_key\n",
    ")\n",
    "\n",
    "\n",
    "# Chat Completion\n",
    "completion = client.chat.completions.create(\n",
    "    model=\"openai/gpt-4o-mini\",\n",
    "    messages=messages,\n",
    "    max_tokens=100,\n",
    ")\n",
    "\n",
    "print(completion.usage)\n",
    "print(completion.choices[0].message.content)\n",
    "print(\"================================================\")\n",
    "print(\"Total Tokens: \", completion.usage.total_tokens)\n",
    "print(\"Prompt Tokens: \", completion.usage.prompt_tokens)\n",
    "print(\"Completion Tokens: \", completion.usage.completion_tokens)\n",
    "print(\"================================================\")\n",
    "print(\"Prompt Tokens Details: \", completion.usage.prompt_tokens_details)\n",
    "print(\"Completion Tokens Details: \", completion.usage.completion_tokens_details)\n",
    "print(\"================================================\")\n",
    "print(\"Cached Tokens: \", completion.usage.prompt_tokens_details.cached_tokens)"
   ]
  }
 ],
 "metadata": {
  "kernelspec": {
   "display_name": ".venv",
   "language": "python",
   "name": "python3"
  },
  "language_info": {
   "codemirror_mode": {
    "name": "ipython",
    "version": 3
   },
   "file_extension": ".py",
   "mimetype": "text/x-python",
   "name": "python",
   "nbconvert_exporter": "python",
   "pygments_lexer": "ipython3",
   "version": "3.11.9"
  }
 },
 "nbformat": 4,
 "nbformat_minor": 5
}
